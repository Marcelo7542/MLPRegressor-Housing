{
 "cells": [
  {
   "cell_type": "code",
   "execution_count": 1,
   "id": "1c57999d-fac2-407d-b64c-745c4c6bdd36",
   "metadata": {},
   "outputs": [
    {
     "name": "stdout",
     "output_type": "stream",
     "text": [
      "Note: you may need to restart the kernel to use updated packages.\n"
     ]
    }
   ],
   "source": [
    "#%pip install -q -U tensorboard-plugin-profile\n",
    "%pip install -q -U keras-tuner\n",
    "import keras-tuner as kt\n",
    "import tensorflow as tf\n",
    "from tensorflow.keras.datasets import boston_housing\n",
    "from tensorflow import keras"
   ]
  },
  {
   "cell_type": "code",
   "execution_count": 56,
   "id": "0823667b-4228-471d-be76-c23ad8e6f343",
   "metadata": {},
   "outputs": [],
   "source": [
    "(X_train, y_train), (X_test, y_test) = boston_housing.load_data()"
   ]
  },
  {
   "cell_type": "code",
   "execution_count": 57,
   "id": "43c12d74-21f7-457c-a962-4583f2c75b75",
   "metadata": {},
   "outputs": [
    {
     "name": "stdout",
     "output_type": "stream",
     "text": [
      "(404, 13)\n",
      "float64\n"
     ]
    }
   ],
   "source": [
    "print(X_train.shape)\n",
    "print(X_train.dtype)"
   ]
  },
  {
   "cell_type": "code",
   "execution_count": 58,
   "id": "3e06f125-cad9-4a0e-a271-45f1a69c2177",
   "metadata": {},
   "outputs": [
    {
     "name": "stdout",
     "output_type": "stream",
     "text": [
      "(404,)\n",
      "float64\n"
     ]
    }
   ],
   "source": [
    "print(y_train.shape)\n",
    "print(y_train.dtype)"
   ]
  },
  {
   "cell_type": "code",
   "execution_count": 59,
   "id": "ba92b9cf-3029-46cd-812b-fe7710cac955",
   "metadata": {},
   "outputs": [],
   "source": [
    "tf.random.set_seed(60)"
   ]
  },
  {
   "cell_type": "code",
   "execution_count": 60,
   "id": "e19a5f9e-d0ce-4b33-b30f-4b83b328a33c",
   "metadata": {},
   "outputs": [],
   "source": [
    "input_wide = tf.keras.layers.Input(shape=[10])\n",
    "input_deep = tf.keras.layers.Input(shape=[10])\n",
    "normalization_wide = tf.keras.layers.Normalization()\n",
    "normalization_deep = tf.keras.layers.Normalization()\n",
    "norm_wide = normalization_wide(input_wide)\n",
    "norm_deep = normalization_deep(input_deep)\n",
    "hidden1 = tf.keras.layers.Dense(300, activation=\"relu\")(norm_deep)\n",
    "hidden2 = tf.keras.layers.Dense(300, activation=\"relu\")(hidden1)\n",
    "hidden3 = tf.keras.layers.Dense(300, activation=\"relu\")(hidden2)\n",
    "concat = tf.keras.layers.Concatenate()([norm_wide, hidden3])\n",
    "output = tf.keras.layers.Dense(1)(concat)\n",
    "output2 = tf.keras.layers.Dense(1)(hidden3)"
   ]
  },
  {
   "cell_type": "code",
   "execution_count": 61,
   "id": "759216c6-5bc3-4cd0-a70f-0f9245a8f98b",
   "metadata": {},
   "outputs": [],
   "source": [
    "model = keras.Model(inputs=[input_wide, input_deep], outputs=[output, output2])"
   ]
  },
  {
   "cell_type": "code",
   "execution_count": 62,
   "id": "f5bda546-6a9b-46bc-91da-acf88e908b9d",
   "metadata": {},
   "outputs": [
    {
     "name": "stdout",
     "output_type": "stream",
     "text": [
      "[<InputLayer name=input_layer_7, built=True>, <Normalization name=normalization_7, built=True>, <Dense name=dense_14, built=True>, <InputLayer name=input_layer_6, built=True>, <Dense name=dense_15, built=True>, <Normalization name=normalization_6, built=True>, <Dense name=dense_16, built=True>, <Concatenate name=concatenate_3, built=True>, <Dense name=dense_17, built=True>, <Dense name=dense_18, built=True>]\n"
     ]
    }
   ],
   "source": [
    "print(model.layers)"
   ]
  },
  {
   "cell_type": "code",
   "execution_count": 63,
   "id": "efe689a2-28d2-40d9-bd04-1d46726e2610",
   "metadata": {},
   "outputs": [
    {
     "name": "stdout",
     "output_type": "stream",
     "text": [
      "dense_14\n",
      "(10, 300)\n",
      "[[-0.07738256  0.00101063 -0.09773073 ...  0.07092077 -0.01498866\n",
      "   0.02153251]\n",
      " [ 0.04430734 -0.06989156 -0.10982867 ... -0.0534564  -0.11875612\n",
      "  -0.06296414]\n",
      " [ 0.02508579  0.05033535 -0.00054158 ...  0.02361979  0.10817753\n",
      "   0.13107584]\n",
      " ...\n",
      " [ 0.0566818  -0.04664059 -0.1202077  ...  0.04568671  0.09651104\n",
      "   0.09634486]\n",
      " [-0.1267991   0.03288546  0.11366929 ...  0.0101928   0.03531417\n",
      "  -0.11279276]\n",
      " [ 0.10948722  0.0416678  -0.09940305 ...  0.05006647 -0.01981445\n",
      "   0.0348385 ]]\n",
      "(300,)\n",
      "[0. 0. 0. 0. 0. 0. 0. 0. 0. 0. 0. 0. 0. 0. 0. 0. 0. 0. 0. 0. 0. 0. 0. 0.\n",
      " 0. 0. 0. 0. 0. 0. 0. 0. 0. 0. 0. 0. 0. 0. 0. 0. 0. 0. 0. 0. 0. 0. 0. 0.\n",
      " 0. 0. 0. 0. 0. 0. 0. 0. 0. 0. 0. 0. 0. 0. 0. 0. 0. 0. 0. 0. 0. 0. 0. 0.\n",
      " 0. 0. 0. 0. 0. 0. 0. 0. 0. 0. 0. 0. 0. 0. 0. 0. 0. 0. 0. 0. 0. 0. 0. 0.\n",
      " 0. 0. 0. 0. 0. 0. 0. 0. 0. 0. 0. 0. 0. 0. 0. 0. 0. 0. 0. 0. 0. 0. 0. 0.\n",
      " 0. 0. 0. 0. 0. 0. 0. 0. 0. 0. 0. 0. 0. 0. 0. 0. 0. 0. 0. 0. 0. 0. 0. 0.\n",
      " 0. 0. 0. 0. 0. 0. 0. 0. 0. 0. 0. 0. 0. 0. 0. 0. 0. 0. 0. 0. 0. 0. 0. 0.\n",
      " 0. 0. 0. 0. 0. 0. 0. 0. 0. 0. 0. 0. 0. 0. 0. 0. 0. 0. 0. 0. 0. 0. 0. 0.\n",
      " 0. 0. 0. 0. 0. 0. 0. 0. 0. 0. 0. 0. 0. 0. 0. 0. 0. 0. 0. 0. 0. 0. 0. 0.\n",
      " 0. 0. 0. 0. 0. 0. 0. 0. 0. 0. 0. 0. 0. 0. 0. 0. 0. 0. 0. 0. 0. 0. 0. 0.\n",
      " 0. 0. 0. 0. 0. 0. 0. 0. 0. 0. 0. 0. 0. 0. 0. 0. 0. 0. 0. 0. 0. 0. 0. 0.\n",
      " 0. 0. 0. 0. 0. 0. 0. 0. 0. 0. 0. 0. 0. 0. 0. 0. 0. 0. 0. 0. 0. 0. 0. 0.\n",
      " 0. 0. 0. 0. 0. 0. 0. 0. 0. 0. 0. 0.]\n"
     ]
    }
   ],
   "source": [
    "layer2 = model.layers[2]\n",
    "print(layer2.name)\n",
    "weights, bias = layer2.get_weights()\n",
    "print(weights.shape)\n",
    "\n",
    "print(weights)\n",
    "\n",
    "print(bias.shape)\n",
    "\n",
    "print(bias)"
   ]
  },
  {
   "cell_type": "code",
   "execution_count": 64,
   "id": "834da3ca-4bd1-4ad9-a71d-493a9f4eb0db",
   "metadata": {},
   "outputs": [
    {
     "data": {
      "text/html": [
       "<pre style=\"white-space:pre;overflow-x:auto;line-height:normal;font-family:Menlo,'DejaVu Sans Mono',consolas,'Courier New',monospace\"><span style=\"font-weight: bold\">Model: \"functional_7\"</span>\n",
       "</pre>\n"
      ],
      "text/plain": [
       "\u001b[1mModel: \"functional_7\"\u001b[0m\n"
      ]
     },
     "metadata": {},
     "output_type": "display_data"
    },
    {
     "data": {
      "text/html": [
       "<pre style=\"white-space:pre;overflow-x:auto;line-height:normal;font-family:Menlo,'DejaVu Sans Mono',consolas,'Courier New',monospace\">┏━━━━━━━━━━━━━━━━━━━━━┳━━━━━━━━━━━━━━━━━━━┳━━━━━━━━━━━━┳━━━━━━━━━━━━━━━━━━━┓\n",
       "┃<span style=\"font-weight: bold\"> Layer (type)        </span>┃<span style=\"font-weight: bold\"> Output Shape      </span>┃<span style=\"font-weight: bold\">    Param # </span>┃<span style=\"font-weight: bold\"> Connected to      </span>┃\n",
       "┡━━━━━━━━━━━━━━━━━━━━━╇━━━━━━━━━━━━━━━━━━━╇━━━━━━━━━━━━╇━━━━━━━━━━━━━━━━━━━┩\n",
       "│ input_layer_7       │ (<span style=\"color: #00d7ff; text-decoration-color: #00d7ff\">None</span>, <span style=\"color: #00af00; text-decoration-color: #00af00\">10</span>)        │          <span style=\"color: #00af00; text-decoration-color: #00af00\">0</span> │ -                 │\n",
       "│ (<span style=\"color: #0087ff; text-decoration-color: #0087ff\">InputLayer</span>)        │                   │            │                   │\n",
       "├─────────────────────┼───────────────────┼────────────┼───────────────────┤\n",
       "│ normalization_7     │ (<span style=\"color: #00d7ff; text-decoration-color: #00d7ff\">None</span>, <span style=\"color: #00af00; text-decoration-color: #00af00\">10</span>)        │         <span style=\"color: #00af00; text-decoration-color: #00af00\">21</span> │ input_layer_7[<span style=\"color: #00af00; text-decoration-color: #00af00\">0</span>]… │\n",
       "│ (<span style=\"color: #0087ff; text-decoration-color: #0087ff\">Normalization</span>)     │                   │            │                   │\n",
       "├─────────────────────┼───────────────────┼────────────┼───────────────────┤\n",
       "│ dense_14 (<span style=\"color: #0087ff; text-decoration-color: #0087ff\">Dense</span>)    │ (<span style=\"color: #00d7ff; text-decoration-color: #00d7ff\">None</span>, <span style=\"color: #00af00; text-decoration-color: #00af00\">300</span>)       │      <span style=\"color: #00af00; text-decoration-color: #00af00\">3,300</span> │ normalization_7[<span style=\"color: #00af00; text-decoration-color: #00af00\">…</span> │\n",
       "├─────────────────────┼───────────────────┼────────────┼───────────────────┤\n",
       "│ input_layer_6       │ (<span style=\"color: #00d7ff; text-decoration-color: #00d7ff\">None</span>, <span style=\"color: #00af00; text-decoration-color: #00af00\">10</span>)        │          <span style=\"color: #00af00; text-decoration-color: #00af00\">0</span> │ -                 │\n",
       "│ (<span style=\"color: #0087ff; text-decoration-color: #0087ff\">InputLayer</span>)        │                   │            │                   │\n",
       "├─────────────────────┼───────────────────┼────────────┼───────────────────┤\n",
       "│ dense_15 (<span style=\"color: #0087ff; text-decoration-color: #0087ff\">Dense</span>)    │ (<span style=\"color: #00d7ff; text-decoration-color: #00d7ff\">None</span>, <span style=\"color: #00af00; text-decoration-color: #00af00\">300</span>)       │     <span style=\"color: #00af00; text-decoration-color: #00af00\">90,300</span> │ dense_14[<span style=\"color: #00af00; text-decoration-color: #00af00\">0</span>][<span style=\"color: #00af00; text-decoration-color: #00af00\">0</span>]    │\n",
       "├─────────────────────┼───────────────────┼────────────┼───────────────────┤\n",
       "│ normalization_6     │ (<span style=\"color: #00d7ff; text-decoration-color: #00d7ff\">None</span>, <span style=\"color: #00af00; text-decoration-color: #00af00\">10</span>)        │         <span style=\"color: #00af00; text-decoration-color: #00af00\">21</span> │ input_layer_6[<span style=\"color: #00af00; text-decoration-color: #00af00\">0</span>]… │\n",
       "│ (<span style=\"color: #0087ff; text-decoration-color: #0087ff\">Normalization</span>)     │                   │            │                   │\n",
       "├─────────────────────┼───────────────────┼────────────┼───────────────────┤\n",
       "│ dense_16 (<span style=\"color: #0087ff; text-decoration-color: #0087ff\">Dense</span>)    │ (<span style=\"color: #00d7ff; text-decoration-color: #00d7ff\">None</span>, <span style=\"color: #00af00; text-decoration-color: #00af00\">300</span>)       │     <span style=\"color: #00af00; text-decoration-color: #00af00\">90,300</span> │ dense_15[<span style=\"color: #00af00; text-decoration-color: #00af00\">0</span>][<span style=\"color: #00af00; text-decoration-color: #00af00\">0</span>]    │\n",
       "├─────────────────────┼───────────────────┼────────────┼───────────────────┤\n",
       "│ concatenate_3       │ (<span style=\"color: #00d7ff; text-decoration-color: #00d7ff\">None</span>, <span style=\"color: #00af00; text-decoration-color: #00af00\">310</span>)       │          <span style=\"color: #00af00; text-decoration-color: #00af00\">0</span> │ normalization_6[<span style=\"color: #00af00; text-decoration-color: #00af00\">…</span> │\n",
       "│ (<span style=\"color: #0087ff; text-decoration-color: #0087ff\">Concatenate</span>)       │                   │            │ dense_16[<span style=\"color: #00af00; text-decoration-color: #00af00\">0</span>][<span style=\"color: #00af00; text-decoration-color: #00af00\">0</span>]    │\n",
       "├─────────────────────┼───────────────────┼────────────┼───────────────────┤\n",
       "│ dense_17 (<span style=\"color: #0087ff; text-decoration-color: #0087ff\">Dense</span>)    │ (<span style=\"color: #00d7ff; text-decoration-color: #00d7ff\">None</span>, <span style=\"color: #00af00; text-decoration-color: #00af00\">1</span>)         │        <span style=\"color: #00af00; text-decoration-color: #00af00\">311</span> │ concatenate_3[<span style=\"color: #00af00; text-decoration-color: #00af00\">0</span>]… │\n",
       "├─────────────────────┼───────────────────┼────────────┼───────────────────┤\n",
       "│ dense_18 (<span style=\"color: #0087ff; text-decoration-color: #0087ff\">Dense</span>)    │ (<span style=\"color: #00d7ff; text-decoration-color: #00d7ff\">None</span>, <span style=\"color: #00af00; text-decoration-color: #00af00\">1</span>)         │        <span style=\"color: #00af00; text-decoration-color: #00af00\">301</span> │ dense_16[<span style=\"color: #00af00; text-decoration-color: #00af00\">0</span>][<span style=\"color: #00af00; text-decoration-color: #00af00\">0</span>]    │\n",
       "└─────────────────────┴───────────────────┴────────────┴───────────────────┘\n",
       "</pre>\n"
      ],
      "text/plain": [
       "┏━━━━━━━━━━━━━━━━━━━━━┳━━━━━━━━━━━━━━━━━━━┳━━━━━━━━━━━━┳━━━━━━━━━━━━━━━━━━━┓\n",
       "┃\u001b[1m \u001b[0m\u001b[1mLayer (type)       \u001b[0m\u001b[1m \u001b[0m┃\u001b[1m \u001b[0m\u001b[1mOutput Shape     \u001b[0m\u001b[1m \u001b[0m┃\u001b[1m \u001b[0m\u001b[1m   Param #\u001b[0m\u001b[1m \u001b[0m┃\u001b[1m \u001b[0m\u001b[1mConnected to     \u001b[0m\u001b[1m \u001b[0m┃\n",
       "┡━━━━━━━━━━━━━━━━━━━━━╇━━━━━━━━━━━━━━━━━━━╇━━━━━━━━━━━━╇━━━━━━━━━━━━━━━━━━━┩\n",
       "│ input_layer_7       │ (\u001b[38;5;45mNone\u001b[0m, \u001b[38;5;34m10\u001b[0m)        │          \u001b[38;5;34m0\u001b[0m │ -                 │\n",
       "│ (\u001b[38;5;33mInputLayer\u001b[0m)        │                   │            │                   │\n",
       "├─────────────────────┼───────────────────┼────────────┼───────────────────┤\n",
       "│ normalization_7     │ (\u001b[38;5;45mNone\u001b[0m, \u001b[38;5;34m10\u001b[0m)        │         \u001b[38;5;34m21\u001b[0m │ input_layer_7[\u001b[38;5;34m0\u001b[0m]… │\n",
       "│ (\u001b[38;5;33mNormalization\u001b[0m)     │                   │            │                   │\n",
       "├─────────────────────┼───────────────────┼────────────┼───────────────────┤\n",
       "│ dense_14 (\u001b[38;5;33mDense\u001b[0m)    │ (\u001b[38;5;45mNone\u001b[0m, \u001b[38;5;34m300\u001b[0m)       │      \u001b[38;5;34m3,300\u001b[0m │ normalization_7[\u001b[38;5;34m…\u001b[0m │\n",
       "├─────────────────────┼───────────────────┼────────────┼───────────────────┤\n",
       "│ input_layer_6       │ (\u001b[38;5;45mNone\u001b[0m, \u001b[38;5;34m10\u001b[0m)        │          \u001b[38;5;34m0\u001b[0m │ -                 │\n",
       "│ (\u001b[38;5;33mInputLayer\u001b[0m)        │                   │            │                   │\n",
       "├─────────────────────┼───────────────────┼────────────┼───────────────────┤\n",
       "│ dense_15 (\u001b[38;5;33mDense\u001b[0m)    │ (\u001b[38;5;45mNone\u001b[0m, \u001b[38;5;34m300\u001b[0m)       │     \u001b[38;5;34m90,300\u001b[0m │ dense_14[\u001b[38;5;34m0\u001b[0m][\u001b[38;5;34m0\u001b[0m]    │\n",
       "├─────────────────────┼───────────────────┼────────────┼───────────────────┤\n",
       "│ normalization_6     │ (\u001b[38;5;45mNone\u001b[0m, \u001b[38;5;34m10\u001b[0m)        │         \u001b[38;5;34m21\u001b[0m │ input_layer_6[\u001b[38;5;34m0\u001b[0m]… │\n",
       "│ (\u001b[38;5;33mNormalization\u001b[0m)     │                   │            │                   │\n",
       "├─────────────────────┼───────────────────┼────────────┼───────────────────┤\n",
       "│ dense_16 (\u001b[38;5;33mDense\u001b[0m)    │ (\u001b[38;5;45mNone\u001b[0m, \u001b[38;5;34m300\u001b[0m)       │     \u001b[38;5;34m90,300\u001b[0m │ dense_15[\u001b[38;5;34m0\u001b[0m][\u001b[38;5;34m0\u001b[0m]    │\n",
       "├─────────────────────┼───────────────────┼────────────┼───────────────────┤\n",
       "│ concatenate_3       │ (\u001b[38;5;45mNone\u001b[0m, \u001b[38;5;34m310\u001b[0m)       │          \u001b[38;5;34m0\u001b[0m │ normalization_6[\u001b[38;5;34m…\u001b[0m │\n",
       "│ (\u001b[38;5;33mConcatenate\u001b[0m)       │                   │            │ dense_16[\u001b[38;5;34m0\u001b[0m][\u001b[38;5;34m0\u001b[0m]    │\n",
       "├─────────────────────┼───────────────────┼────────────┼───────────────────┤\n",
       "│ dense_17 (\u001b[38;5;33mDense\u001b[0m)    │ (\u001b[38;5;45mNone\u001b[0m, \u001b[38;5;34m1\u001b[0m)         │        \u001b[38;5;34m311\u001b[0m │ concatenate_3[\u001b[38;5;34m0\u001b[0m]… │\n",
       "├─────────────────────┼───────────────────┼────────────┼───────────────────┤\n",
       "│ dense_18 (\u001b[38;5;33mDense\u001b[0m)    │ (\u001b[38;5;45mNone\u001b[0m, \u001b[38;5;34m1\u001b[0m)         │        \u001b[38;5;34m301\u001b[0m │ dense_16[\u001b[38;5;34m0\u001b[0m][\u001b[38;5;34m0\u001b[0m]    │\n",
       "└─────────────────────┴───────────────────┴────────────┴───────────────────┘\n"
      ]
     },
     "metadata": {},
     "output_type": "display_data"
    },
    {
     "data": {
      "text/html": [
       "<pre style=\"white-space:pre;overflow-x:auto;line-height:normal;font-family:Menlo,'DejaVu Sans Mono',consolas,'Courier New',monospace\"><span style=\"font-weight: bold\"> Total params: </span><span style=\"color: #00af00; text-decoration-color: #00af00\">184,554</span> (720.92 KB)\n",
       "</pre>\n"
      ],
      "text/plain": [
       "\u001b[1m Total params: \u001b[0m\u001b[38;5;34m184,554\u001b[0m (720.92 KB)\n"
      ]
     },
     "metadata": {},
     "output_type": "display_data"
    },
    {
     "data": {
      "text/html": [
       "<pre style=\"white-space:pre;overflow-x:auto;line-height:normal;font-family:Menlo,'DejaVu Sans Mono',consolas,'Courier New',monospace\"><span style=\"font-weight: bold\"> Trainable params: </span><span style=\"color: #00af00; text-decoration-color: #00af00\">184,512</span> (720.75 KB)\n",
       "</pre>\n"
      ],
      "text/plain": [
       "\u001b[1m Trainable params: \u001b[0m\u001b[38;5;34m184,512\u001b[0m (720.75 KB)\n"
      ]
     },
     "metadata": {},
     "output_type": "display_data"
    },
    {
     "data": {
      "text/html": [
       "<pre style=\"white-space:pre;overflow-x:auto;line-height:normal;font-family:Menlo,'DejaVu Sans Mono',consolas,'Courier New',monospace\"><span style=\"font-weight: bold\"> Non-trainable params: </span><span style=\"color: #00af00; text-decoration-color: #00af00\">42</span> (176.00 B)\n",
       "</pre>\n"
      ],
      "text/plain": [
       "\u001b[1m Non-trainable params: \u001b[0m\u001b[38;5;34m42\u001b[0m (176.00 B)\n"
      ]
     },
     "metadata": {},
     "output_type": "display_data"
    },
    {
     "name": "stdout",
     "output_type": "stream",
     "text": [
      "None\n"
     ]
    }
   ],
   "source": [
    "print(model.summary())"
   ]
  },
  {
   "cell_type": "code",
   "execution_count": 65,
   "id": "ff72dd87-2946-46a2-a525-40cf0de988c8",
   "metadata": {},
   "outputs": [],
   "source": [
    "model.compile(loss = ('mse','mse'), optimizer = keras.optimizers.Adam(learning_rate=0.01),metrics=[\"RootMeanSquaredError\", \"RootMeanSquaredError\"], loss_weights=(0.9, 0.1))"
   ]
  },
  {
   "cell_type": "code",
   "execution_count": 66,
   "id": "17bcf426-b624-499c-9402-a53d7df6b1c6",
   "metadata": {},
   "outputs": [],
   "source": [
    "X_train_wide, X_train_deep = X_train[:, :10], X_train[:, 3:]\n",
    "X_test_wide, X_test_deep = X_test[:, :10], X_test[:, 3:]\n",
    "X_new_wide, X_new_deep = X_test_wide[:4], X_test_deep[:4]\n"
   ]
  },
  {
   "cell_type": "code",
   "execution_count": 67,
   "id": "c4a1bfe5-8aac-459c-8520-17a75e5de16b",
   "metadata": {},
   "outputs": [],
   "source": [
    "normalization_wide.adapt(X_train_wide)\n",
    "normalization_deep.adapt(X_train_deep)"
   ]
  },
  {
   "cell_type": "code",
   "execution_count": 68,
   "id": "5ec5d163-63ea-4c9b-aa3e-5b6c9f729921",
   "metadata": {},
   "outputs": [],
   "source": [
    "save = tf.keras.callbacks.ModelCheckpoint(filepath=\"checkpoints.weights.h5\",save_weights_only=True)\n",
    "early_stopping = tf.keras.callbacks.EarlyStopping(patience=45, restore_best_weights=True)\n"
   ]
  },
  {
   "cell_type": "code",
   "execution_count": 69,
   "id": "c5987a24-bedc-491f-96b3-91e9a21f08a7",
   "metadata": {},
   "outputs": [
    {
     "name": "stdout",
     "output_type": "stream",
     "text": [
      "Epoch 1/10000\n",
      "\u001b[1m11/11\u001b[0m \u001b[32m━━━━━━━━━━━━━━━━━━━━\u001b[0m\u001b[37m\u001b[0m \u001b[1m5s\u001b[0m 69ms/step - dense_17_RootMeanSquaredError: 15.1840 - dense_18_RootMeanSquaredError: 16.7204 - loss: 243.8770 - val_dense_17_RootMeanSquaredError: 5.3073 - val_dense_18_RootMeanSquaredError: 10.0874 - val_loss: 35.5262\n",
      "Epoch 2/10000\n",
      "\u001b[1m11/11\u001b[0m \u001b[32m━━━━━━━━━━━━━━━━━━━━\u001b[0m\u001b[37m\u001b[0m \u001b[1m0s\u001b[0m 13ms/step - dense_17_RootMeanSquaredError: 7.6683 - dense_18_RootMeanSquaredError: 7.6337 - loss: 59.9800 - val_dense_17_RootMeanSquaredError: 6.0053 - val_dense_18_RootMeanSquaredError: 8.6946 - val_loss: 40.0170\n",
      "Epoch 3/10000\n",
      "\u001b[1m11/11\u001b[0m \u001b[32m━━━━━━━━━━━━━━━━━━━━\u001b[0m\u001b[37m\u001b[0m \u001b[1m0s\u001b[0m 15ms/step - dense_17_RootMeanSquaredError: 5.0780 - dense_18_RootMeanSquaredError: 6.1104 - loss: 27.0054 - val_dense_17_RootMeanSquaredError: 4.2275 - val_dense_18_RootMeanSquaredError: 4.5942 - val_loss: 18.1956\n",
      "Epoch 4/10000\n",
      "\u001b[1m11/11\u001b[0m \u001b[32m━━━━━━━━━━━━━━━━━━━━\u001b[0m\u001b[37m\u001b[0m \u001b[1m0s\u001b[0m 10ms/step - dense_17_RootMeanSquaredError: 3.7043 - dense_18_RootMeanSquaredError: 4.1328 - loss: 14.1779 - val_dense_17_RootMeanSquaredError: 4.3402 - val_dense_18_RootMeanSquaredError: 4.3863 - val_loss: 18.8775\n",
      "Epoch 5/10000\n",
      "\u001b[1m11/11\u001b[0m \u001b[32m━━━━━━━━━━━━━━━━━━━━\u001b[0m\u001b[37m\u001b[0m \u001b[1m0s\u001b[0m 12ms/step - dense_17_RootMeanSquaredError: 3.5502 - dense_18_RootMeanSquaredError: 3.4805 - loss: 12.5689 - val_dense_17_RootMeanSquaredError: 4.3850 - val_dense_18_RootMeanSquaredError: 4.5692 - val_loss: 19.3935\n",
      "Epoch 6/10000\n",
      "\u001b[1m11/11\u001b[0m \u001b[32m━━━━━━━━━━━━━━━━━━━━\u001b[0m\u001b[37m\u001b[0m \u001b[1m0s\u001b[0m 11ms/step - dense_17_RootMeanSquaredError: 3.7067 - dense_18_RootMeanSquaredError: 3.7746 - loss: 13.8147 - val_dense_17_RootMeanSquaredError: 4.3013 - val_dense_18_RootMeanSquaredError: 4.4554 - val_loss: 18.6360\n",
      "Epoch 7/10000\n",
      "\u001b[1m11/11\u001b[0m \u001b[32m━━━━━━━━━━━━━━━━━━━━\u001b[0m\u001b[37m\u001b[0m \u001b[1m0s\u001b[0m 13ms/step - dense_17_RootMeanSquaredError: 3.2181 - dense_18_RootMeanSquaredError: 3.2855 - loss: 10.4182 - val_dense_17_RootMeanSquaredError: 4.0276 - val_dense_18_RootMeanSquaredError: 4.1131 - val_loss: 16.2914\n",
      "Epoch 8/10000\n",
      "\u001b[1m11/11\u001b[0m \u001b[32m━━━━━━━━━━━━━━━━━━━━\u001b[0m\u001b[37m\u001b[0m \u001b[1m0s\u001b[0m 11ms/step - dense_17_RootMeanSquaredError: 3.3244 - dense_18_RootMeanSquaredError: 3.3332 - loss: 11.1303 - val_dense_17_RootMeanSquaredError: 4.1880 - val_dense_18_RootMeanSquaredError: 4.3166 - val_loss: 17.6488\n",
      "Epoch 9/10000\n",
      "\u001b[1m11/11\u001b[0m \u001b[32m━━━━━━━━━━━━━━━━━━━━\u001b[0m\u001b[37m\u001b[0m \u001b[1m0s\u001b[0m 15ms/step - dense_17_RootMeanSquaredError: 3.2761 - dense_18_RootMeanSquaredError: 3.3181 - loss: 10.7822 - val_dense_17_RootMeanSquaredError: 4.2499 - val_dense_18_RootMeanSquaredError: 4.3358 - val_loss: 18.1354\n",
      "Epoch 10/10000\n",
      "\u001b[1m11/11\u001b[0m \u001b[32m━━━━━━━━━━━━━━━━━━━━\u001b[0m\u001b[37m\u001b[0m \u001b[1m0s\u001b[0m 13ms/step - dense_17_RootMeanSquaredError: 4.1350 - dense_18_RootMeanSquaredError: 4.0676 - loss: 17.3993 - val_dense_17_RootMeanSquaredError: 4.4777 - val_dense_18_RootMeanSquaredError: 4.6676 - val_loss: 20.2238\n",
      "Epoch 11/10000\n",
      "\u001b[1m11/11\u001b[0m \u001b[32m━━━━━━━━━━━━━━━━━━━━\u001b[0m\u001b[37m\u001b[0m \u001b[1m0s\u001b[0m 10ms/step - dense_17_RootMeanSquaredError: 4.0975 - dense_18_RootMeanSquaredError: 4.1525 - loss: 17.0531 - val_dense_17_RootMeanSquaredError: 4.0032 - val_dense_18_RootMeanSquaredError: 4.0658 - val_loss: 16.0758\n",
      "Epoch 12/10000\n",
      "\u001b[1m11/11\u001b[0m \u001b[32m━━━━━━━━━━━━━━━━━━━━\u001b[0m\u001b[37m\u001b[0m \u001b[1m0s\u001b[0m 16ms/step - dense_17_RootMeanSquaredError: 5.2758 - dense_18_RootMeanSquaredError: 5.1618 - loss: 28.8091 - val_dense_17_RootMeanSquaredError: 5.6834 - val_dense_18_RootMeanSquaredError: 5.8627 - val_loss: 32.5084\n",
      "Epoch 13/10000\n",
      "\u001b[1m11/11\u001b[0m \u001b[32m━━━━━━━━━━━━━━━━━━━━\u001b[0m\u001b[37m\u001b[0m \u001b[1m0s\u001b[0m 12ms/step - dense_17_RootMeanSquaredError: 3.9286 - dense_18_RootMeanSquaredError: 3.9871 - loss: 15.5577 - val_dense_17_RootMeanSquaredError: 3.6623 - val_dense_18_RootMeanSquaredError: 3.7564 - val_loss: 13.4820\n",
      "Epoch 14/10000\n",
      "\u001b[1m11/11\u001b[0m \u001b[32m━━━━━━━━━━━━━━━━━━━━\u001b[0m\u001b[37m\u001b[0m \u001b[1m0s\u001b[0m 14ms/step - dense_17_RootMeanSquaredError: 3.4241 - dense_18_RootMeanSquaredError: 3.4203 - loss: 11.7794 - val_dense_17_RootMeanSquaredError: 4.9428 - val_dense_18_RootMeanSquaredError: 5.1382 - val_loss: 24.6284\n",
      "Epoch 15/10000\n",
      "\u001b[1m11/11\u001b[0m \u001b[32m━━━━━━━━━━━━━━━━━━━━\u001b[0m\u001b[37m\u001b[0m \u001b[1m0s\u001b[0m 12ms/step - dense_17_RootMeanSquaredError: 2.9535 - dense_18_RootMeanSquaredError: 3.0210 - loss: 8.7713 - val_dense_17_RootMeanSquaredError: 3.6676 - val_dense_18_RootMeanSquaredError: 3.8584 - val_loss: 13.5948\n",
      "Epoch 16/10000\n",
      "\u001b[1m11/11\u001b[0m \u001b[32m━━━━━━━━━━━━━━━━━━━━\u001b[0m\u001b[37m\u001b[0m \u001b[1m0s\u001b[0m 13ms/step - dense_17_RootMeanSquaredError: 3.2183 - dense_18_RootMeanSquaredError: 3.2744 - loss: 10.4612 - val_dense_17_RootMeanSquaredError: 4.2259 - val_dense_18_RootMeanSquaredError: 4.3518 - val_loss: 17.9664\n",
      "Epoch 17/10000\n",
      "\u001b[1m11/11\u001b[0m \u001b[32m━━━━━━━━━━━━━━━━━━━━\u001b[0m\u001b[37m\u001b[0m \u001b[1m0s\u001b[0m 17ms/step - dense_17_RootMeanSquaredError: 2.5699 - dense_18_RootMeanSquaredError: 2.6119 - loss: 6.6563 - val_dense_17_RootMeanSquaredError: 3.6691 - val_dense_18_RootMeanSquaredError: 3.8182 - val_loss: 13.5738\n",
      "Epoch 18/10000\n",
      "\u001b[1m11/11\u001b[0m \u001b[32m━━━━━━━━━━━━━━━━━━━━\u001b[0m\u001b[37m\u001b[0m \u001b[1m0s\u001b[0m 22ms/step - dense_17_RootMeanSquaredError: 2.8003 - dense_18_RootMeanSquaredError: 2.8229 - loss: 7.9277 - val_dense_17_RootMeanSquaredError: 4.1572 - val_dense_18_RootMeanSquaredError: 4.2936 - val_loss: 17.3979\n",
      "Epoch 19/10000\n",
      "\u001b[1m11/11\u001b[0m \u001b[32m━━━━━━━━━━━━━━━━━━━━\u001b[0m\u001b[37m\u001b[0m \u001b[1m0s\u001b[0m 23ms/step - dense_17_RootMeanSquaredError: 2.5056 - dense_18_RootMeanSquaredError: 2.5476 - loss: 6.3172 - val_dense_17_RootMeanSquaredError: 3.7749 - val_dense_18_RootMeanSquaredError: 3.9789 - val_loss: 14.4077\n",
      "Epoch 20/10000\n",
      "\u001b[1m11/11\u001b[0m \u001b[32m━━━━━━━━━━━━━━━━━━━━\u001b[0m\u001b[37m\u001b[0m \u001b[1m0s\u001b[0m 17ms/step - dense_17_RootMeanSquaredError: 2.7760 - dense_18_RootMeanSquaredError: 2.8073 - loss: 7.8815 - val_dense_17_RootMeanSquaredError: 4.2582 - val_dense_18_RootMeanSquaredError: 4.3327 - val_loss: 18.1961\n",
      "Epoch 21/10000\n",
      "\u001b[1m11/11\u001b[0m \u001b[32m━━━━━━━━━━━━━━━━━━━━\u001b[0m\u001b[37m\u001b[0m \u001b[1m0s\u001b[0m 16ms/step - dense_17_RootMeanSquaredError: 2.6051 - dense_18_RootMeanSquaredError: 2.6390 - loss: 6.8665 - val_dense_17_RootMeanSquaredError: 3.6603 - val_dense_18_RootMeanSquaredError: 3.7991 - val_loss: 13.5011\n",
      "Epoch 22/10000\n",
      "\u001b[1m11/11\u001b[0m \u001b[32m━━━━━━━━━━━━━━━━━━━━\u001b[0m\u001b[37m\u001b[0m \u001b[1m0s\u001b[0m 15ms/step - dense_17_RootMeanSquaredError: 3.2850 - dense_18_RootMeanSquaredError: 3.3119 - loss: 11.1810 - val_dense_17_RootMeanSquaredError: 4.5257 - val_dense_18_RootMeanSquaredError: 4.6241 - val_loss: 20.5717\n",
      "Epoch 23/10000\n",
      "\u001b[1m11/11\u001b[0m \u001b[32m━━━━━━━━━━━━━━━━━━━━\u001b[0m\u001b[37m\u001b[0m \u001b[1m0s\u001b[0m 17ms/step - dense_17_RootMeanSquaredError: 3.0863 - dense_18_RootMeanSquaredError: 3.1195 - loss: 9.6188 - val_dense_17_RootMeanSquaredError: 3.8194 - val_dense_18_RootMeanSquaredError: 4.0118 - val_loss: 14.7385\n",
      "Epoch 24/10000\n",
      "\u001b[1m11/11\u001b[0m \u001b[32m━━━━━━━━━━━━━━━━━━━━\u001b[0m\u001b[37m\u001b[0m \u001b[1m0s\u001b[0m 14ms/step - dense_17_RootMeanSquaredError: 3.8277 - dense_18_RootMeanSquaredError: 3.8678 - loss: 15.3134 - val_dense_17_RootMeanSquaredError: 5.2134 - val_dense_18_RootMeanSquaredError: 5.3455 - val_loss: 27.3190\n",
      "Epoch 25/10000\n",
      "\u001b[1m11/11\u001b[0m \u001b[32m━━━━━━━━━━━━━━━━━━━━\u001b[0m\u001b[37m\u001b[0m \u001b[1m0s\u001b[0m 19ms/step - dense_17_RootMeanSquaredError: 3.4304 - dense_18_RootMeanSquaredError: 3.4825 - loss: 11.8499 - val_dense_17_RootMeanSquaredError: 3.6075 - val_dense_18_RootMeanSquaredError: 3.8198 - val_loss: 13.1716\n",
      "Epoch 26/10000\n",
      "\u001b[1m11/11\u001b[0m \u001b[32m━━━━━━━━━━━━━━━━━━━━\u001b[0m\u001b[37m\u001b[0m \u001b[1m0s\u001b[0m 21ms/step - dense_17_RootMeanSquaredError: 3.7466 - dense_18_RootMeanSquaredError: 3.8078 - loss: 14.4771 - val_dense_17_RootMeanSquaredError: 4.4440 - val_dense_18_RootMeanSquaredError: 4.5582 - val_loss: 19.8523\n",
      "Epoch 27/10000\n",
      "\u001b[1m11/11\u001b[0m \u001b[32m━━━━━━━━━━━━━━━━━━━━\u001b[0m\u001b[37m\u001b[0m \u001b[1m0s\u001b[0m 18ms/step - dense_17_RootMeanSquaredError: 2.8533 - dense_18_RootMeanSquaredError: 2.8794 - loss: 8.2250 - val_dense_17_RootMeanSquaredError: 3.4678 - val_dense_18_RootMeanSquaredError: 3.5947 - val_loss: 12.1149\n",
      "Epoch 28/10000\n",
      "\u001b[1m11/11\u001b[0m \u001b[32m━━━━━━━━━━━━━━━━━━━━\u001b[0m\u001b[37m\u001b[0m \u001b[1m0s\u001b[0m 16ms/step - dense_17_RootMeanSquaredError: 2.9387 - dense_18_RootMeanSquaredError: 3.0161 - loss: 8.8345 - val_dense_17_RootMeanSquaredError: 4.0963 - val_dense_18_RootMeanSquaredError: 4.1709 - val_loss: 16.8416\n",
      "Epoch 29/10000\n",
      "\u001b[1m11/11\u001b[0m \u001b[32m━━━━━━━━━━━━━━━━━━━━\u001b[0m\u001b[37m\u001b[0m \u001b[1m0s\u001b[0m 18ms/step - dense_17_RootMeanSquaredError: 2.3681 - dense_18_RootMeanSquaredError: 2.3870 - loss: 5.6854 - val_dense_17_RootMeanSquaredError: 3.4293 - val_dense_18_RootMeanSquaredError: 3.5405 - val_loss: 11.8376\n",
      "Epoch 30/10000\n",
      "\u001b[1m11/11\u001b[0m \u001b[32m━━━━━━━━━━━━━━━━━━━━\u001b[0m\u001b[37m\u001b[0m \u001b[1m0s\u001b[0m 18ms/step - dense_17_RootMeanSquaredError: 2.6262 - dense_18_RootMeanSquaredError: 2.7109 - loss: 7.0539 - val_dense_17_RootMeanSquaredError: 3.9526 - val_dense_18_RootMeanSquaredError: 4.0379 - val_loss: 15.6909\n",
      "Epoch 31/10000\n",
      "\u001b[1m11/11\u001b[0m \u001b[32m━━━━━━━━━━━━━━━━━━━━\u001b[0m\u001b[37m\u001b[0m \u001b[1m0s\u001b[0m 22ms/step - dense_17_RootMeanSquaredError: 2.1994 - dense_18_RootMeanSquaredError: 2.2353 - loss: 4.9166 - val_dense_17_RootMeanSquaredError: 3.5721 - val_dense_18_RootMeanSquaredError: 3.6721 - val_loss: 12.8325\n",
      "Epoch 32/10000\n",
      "\u001b[1m11/11\u001b[0m \u001b[32m━━━━━━━━━━━━━━━━━━━━\u001b[0m\u001b[37m\u001b[0m \u001b[1m0s\u001b[0m 17ms/step - dense_17_RootMeanSquaredError: 2.5503 - dense_18_RootMeanSquaredError: 2.6343 - loss: 6.6773 - val_dense_17_RootMeanSquaredError: 3.9712 - val_dense_18_RootMeanSquaredError: 4.0587 - val_loss: 15.8407\n",
      "Epoch 33/10000\n",
      "\u001b[1m11/11\u001b[0m \u001b[32m━━━━━━━━━━━━━━━━━━━━\u001b[0m\u001b[37m\u001b[0m \u001b[1m0s\u001b[0m 16ms/step - dense_17_RootMeanSquaredError: 2.2235 - dense_18_RootMeanSquaredError: 2.2744 - loss: 5.0398 - val_dense_17_RootMeanSquaredError: 3.5201 - val_dense_18_RootMeanSquaredError: 3.6187 - val_loss: 12.4613\n",
      "Epoch 34/10000\n",
      "\u001b[1m11/11\u001b[0m \u001b[32m━━━━━━━━━━━━━━━━━━━━\u001b[0m\u001b[37m\u001b[0m \u001b[1m0s\u001b[0m 15ms/step - dense_17_RootMeanSquaredError: 2.6952 - dense_18_RootMeanSquaredError: 2.7874 - loss: 7.4945 - val_dense_17_RootMeanSquaredError: 4.0752 - val_dense_18_RootMeanSquaredError: 4.1582 - val_loss: 16.6755\n",
      "Epoch 35/10000\n",
      "\u001b[1m11/11\u001b[0m \u001b[32m━━━━━━━━━━━━━━━━━━━━\u001b[0m\u001b[37m\u001b[0m \u001b[1m0s\u001b[0m 13ms/step - dense_17_RootMeanSquaredError: 2.3827 - dense_18_RootMeanSquaredError: 2.4188 - loss: 5.7634 - val_dense_17_RootMeanSquaredError: 3.5674 - val_dense_18_RootMeanSquaredError: 3.6654 - val_loss: 12.7969\n",
      "Epoch 36/10000\n",
      "\u001b[1m11/11\u001b[0m \u001b[32m━━━━━━━━━━━━━━━━━━━━\u001b[0m\u001b[37m\u001b[0m \u001b[1m0s\u001b[0m 13ms/step - dense_17_RootMeanSquaredError: 2.9113 - dense_18_RootMeanSquaredError: 2.9941 - loss: 8.7920 - val_dense_17_RootMeanSquaredError: 4.2714 - val_dense_18_RootMeanSquaredError: 4.3847 - val_loss: 18.3427\n",
      "Epoch 37/10000\n",
      "\u001b[1m11/11\u001b[0m \u001b[32m━━━━━━━━━━━━━━━━━━━━\u001b[0m\u001b[37m\u001b[0m \u001b[1m0s\u001b[0m 18ms/step - dense_17_RootMeanSquaredError: 2.5431 - dense_18_RootMeanSquaredError: 2.5901 - loss: 6.6008 - val_dense_17_RootMeanSquaredError: 3.4770 - val_dense_18_RootMeanSquaredError: 3.5876 - val_loss: 12.1678\n",
      "Epoch 38/10000\n",
      "\u001b[1m11/11\u001b[0m \u001b[32m━━━━━━━━━━━━━━━━━━━━\u001b[0m\u001b[37m\u001b[0m \u001b[1m0s\u001b[0m 20ms/step - dense_17_RootMeanSquaredError: 3.0735 - dense_18_RootMeanSquaredError: 3.1574 - loss: 9.7977 - val_dense_17_RootMeanSquaredError: 4.4347 - val_dense_18_RootMeanSquaredError: 4.5579 - val_loss: 19.7774\n",
      "Epoch 39/10000\n",
      "\u001b[1m11/11\u001b[0m \u001b[32m━━━━━━━━━━━━━━━━━━━━\u001b[0m\u001b[37m\u001b[0m \u001b[1m0s\u001b[0m 16ms/step - dense_17_RootMeanSquaredError: 2.4755 - dense_18_RootMeanSquaredError: 2.5150 - loss: 6.2037 - val_dense_17_RootMeanSquaredError: 3.7761 - val_dense_18_RootMeanSquaredError: 3.8332 - val_loss: 14.3023\n",
      "Epoch 40/10000\n",
      "\u001b[1m11/11\u001b[0m \u001b[32m━━━━━━━━━━━━━━━━━━━━\u001b[0m\u001b[37m\u001b[0m \u001b[1m0s\u001b[0m 12ms/step - dense_17_RootMeanSquaredError: 3.4357 - dense_18_RootMeanSquaredError: 3.5263 - loss: 12.2270 - val_dense_17_RootMeanSquaredError: 4.5146 - val_dense_18_RootMeanSquaredError: 4.6511 - val_loss: 20.5065\n",
      "Epoch 41/10000\n",
      "\u001b[1m11/11\u001b[0m \u001b[32m━━━━━━━━━━━━━━━━━━━━\u001b[0m\u001b[37m\u001b[0m \u001b[1m0s\u001b[0m 13ms/step - dense_17_RootMeanSquaredError: 2.7318 - dense_18_RootMeanSquaredError: 2.8146 - loss: 7.5904 - val_dense_17_RootMeanSquaredError: 3.3226 - val_dense_18_RootMeanSquaredError: 3.4374 - val_loss: 11.1176\n",
      "Epoch 42/10000\n",
      "\u001b[1m11/11\u001b[0m \u001b[32m━━━━━━━━━━━━━━━━━━━━\u001b[0m\u001b[37m\u001b[0m \u001b[1m0s\u001b[0m 12ms/step - dense_17_RootMeanSquaredError: 2.7559 - dense_18_RootMeanSquaredError: 2.8165 - loss: 7.7941 - val_dense_17_RootMeanSquaredError: 4.4426 - val_dense_18_RootMeanSquaredError: 4.5779 - val_loss: 19.8590\n",
      "Epoch 43/10000\n",
      "\u001b[1m11/11\u001b[0m \u001b[32m━━━━━━━━━━━━━━━━━━━━\u001b[0m\u001b[37m\u001b[0m \u001b[1m0s\u001b[0m 10ms/step - dense_17_RootMeanSquaredError: 2.1991 - dense_18_RootMeanSquaredError: 2.2428 - loss: 4.8934 - val_dense_17_RootMeanSquaredError: 3.5985 - val_dense_18_RootMeanSquaredError: 3.7178 - val_loss: 13.0364\n",
      "Epoch 44/10000\n",
      "\u001b[1m11/11\u001b[0m \u001b[32m━━━━━━━━━━━━━━━━━━━━\u001b[0m\u001b[37m\u001b[0m \u001b[1m0s\u001b[0m 17ms/step - dense_17_RootMeanSquaredError: 2.5026 - dense_18_RootMeanSquaredError: 2.5972 - loss: 6.4056 - val_dense_17_RootMeanSquaredError: 4.2599 - val_dense_18_RootMeanSquaredError: 4.3774 - val_loss: 18.2485\n",
      "Epoch 45/10000\n",
      "\u001b[1m11/11\u001b[0m \u001b[32m━━━━━━━━━━━━━━━━━━━━\u001b[0m\u001b[37m\u001b[0m \u001b[1m0s\u001b[0m 20ms/step - dense_17_RootMeanSquaredError: 2.0598 - dense_18_RootMeanSquaredError: 2.1087 - loss: 4.2824 - val_dense_17_RootMeanSquaredError: 3.6023 - val_dense_18_RootMeanSquaredError: 3.7292 - val_loss: 13.0697\n",
      "Epoch 46/10000\n",
      "\u001b[1m11/11\u001b[0m \u001b[32m━━━━━━━━━━━━━━━━━━━━\u001b[0m\u001b[37m\u001b[0m \u001b[1m0s\u001b[0m 10ms/step - dense_17_RootMeanSquaredError: 2.4158 - dense_18_RootMeanSquaredError: 2.5222 - loss: 5.9592 - val_dense_17_RootMeanSquaredError: 4.2090 - val_dense_18_RootMeanSquaredError: 4.2908 - val_loss: 17.7853\n",
      "Epoch 47/10000\n",
      "\u001b[1m11/11\u001b[0m \u001b[32m━━━━━━━━━━━━━━━━━━━━\u001b[0m\u001b[37m\u001b[0m \u001b[1m0s\u001b[0m 10ms/step - dense_17_RootMeanSquaredError: 2.0546 - dense_18_RootMeanSquaredError: 2.1130 - loss: 4.2606 - val_dense_17_RootMeanSquaredError: 3.5501 - val_dense_18_RootMeanSquaredError: 3.6551 - val_loss: 12.6788\n",
      "Epoch 48/10000\n",
      "\u001b[1m11/11\u001b[0m \u001b[32m━━━━━━━━━━━━━━━━━━━━\u001b[0m\u001b[37m\u001b[0m \u001b[1m0s\u001b[0m 9ms/step - dense_17_RootMeanSquaredError: 2.3474 - dense_18_RootMeanSquaredError: 2.4498 - loss: 5.6572 - val_dense_17_RootMeanSquaredError: 4.1726 - val_dense_18_RootMeanSquaredError: 4.2512 - val_loss: 17.4769\n",
      "Epoch 49/10000\n",
      "\u001b[1m11/11\u001b[0m \u001b[32m━━━━━━━━━━━━━━━━━━━━\u001b[0m\u001b[37m\u001b[0m \u001b[1m0s\u001b[0m 15ms/step - dense_17_RootMeanSquaredError: 2.0062 - dense_18_RootMeanSquaredError: 2.0781 - loss: 4.0768 - val_dense_17_RootMeanSquaredError: 3.6656 - val_dense_18_RootMeanSquaredError: 3.7681 - val_loss: 13.5130\n",
      "Epoch 50/10000\n",
      "\u001b[1m11/11\u001b[0m \u001b[32m━━━━━━━━━━━━━━━━━━━━\u001b[0m\u001b[37m\u001b[0m \u001b[1m0s\u001b[0m 11ms/step - dense_17_RootMeanSquaredError: 2.4447 - dense_18_RootMeanSquaredError: 2.5477 - loss: 6.1561 - val_dense_17_RootMeanSquaredError: 4.3433 - val_dense_18_RootMeanSquaredError: 4.4306 - val_loss: 18.9406\n",
      "Epoch 51/10000\n",
      "\u001b[1m11/11\u001b[0m \u001b[32m━━━━━━━━━━━━━━━━━━━━\u001b[0m\u001b[37m\u001b[0m \u001b[1m0s\u001b[0m 11ms/step - dense_17_RootMeanSquaredError: 2.1046 - dense_18_RootMeanSquaredError: 2.1823 - loss: 4.4932 - val_dense_17_RootMeanSquaredError: 3.7451 - val_dense_18_RootMeanSquaredError: 3.8717 - val_loss: 14.1223\n",
      "Epoch 52/10000\n",
      "\u001b[1m11/11\u001b[0m \u001b[32m━━━━━━━━━━━━━━━━━━━━\u001b[0m\u001b[37m\u001b[0m \u001b[1m0s\u001b[0m 11ms/step - dense_17_RootMeanSquaredError: 2.7600 - dense_18_RootMeanSquaredError: 2.8707 - loss: 7.8538 - val_dense_17_RootMeanSquaredError: 4.3955 - val_dense_18_RootMeanSquaredError: 4.4640 - val_loss: 19.3815\n",
      "Epoch 53/10000\n",
      "\u001b[1m11/11\u001b[0m \u001b[32m━━━━━━━━━━━━━━━━━━━━\u001b[0m\u001b[37m\u001b[0m \u001b[1m0s\u001b[0m 15ms/step - dense_17_RootMeanSquaredError: 2.3093 - dense_18_RootMeanSquaredError: 2.3685 - loss: 5.3908 - val_dense_17_RootMeanSquaredError: 3.6051 - val_dense_18_RootMeanSquaredError: 3.7127 - val_loss: 13.0752\n",
      "Epoch 54/10000\n",
      "\u001b[1m11/11\u001b[0m \u001b[32m━━━━━━━━━━━━━━━━━━━━\u001b[0m\u001b[37m\u001b[0m \u001b[1m0s\u001b[0m 15ms/step - dense_17_RootMeanSquaredError: 2.9911 - dense_18_RootMeanSquaredError: 3.1009 - loss: 9.2659 - val_dense_17_RootMeanSquaredError: 4.4933 - val_dense_18_RootMeanSquaredError: 4.5582 - val_loss: 20.2487\n",
      "Epoch 55/10000\n",
      "\u001b[1m11/11\u001b[0m \u001b[32m━━━━━━━━━━━━━━━━━━━━\u001b[0m\u001b[37m\u001b[0m \u001b[1m0s\u001b[0m 16ms/step - dense_17_RootMeanSquaredError: 2.4942 - dense_18_RootMeanSquaredError: 2.5432 - loss: 6.2703 - val_dense_17_RootMeanSquaredError: 3.5723 - val_dense_18_RootMeanSquaredError: 3.6871 - val_loss: 12.8445\n",
      "Epoch 56/10000\n",
      "\u001b[1m11/11\u001b[0m \u001b[32m━━━━━━━━━━━━━━━━━━━━\u001b[0m\u001b[37m\u001b[0m \u001b[1m0s\u001b[0m 12ms/step - dense_17_RootMeanSquaredError: 3.0961 - dense_18_RootMeanSquaredError: 3.1696 - loss: 9.9153 - val_dense_17_RootMeanSquaredError: 4.8499 - val_dense_18_RootMeanSquaredError: 4.9747 - val_loss: 23.6443\n",
      "Epoch 57/10000\n",
      "\u001b[1m11/11\u001b[0m \u001b[32m━━━━━━━━━━━━━━━━━━━━\u001b[0m\u001b[37m\u001b[0m \u001b[1m0s\u001b[0m 13ms/step - dense_17_RootMeanSquaredError: 2.4011 - dense_18_RootMeanSquaredError: 2.4782 - loss: 5.8436 - val_dense_17_RootMeanSquaredError: 3.7109 - val_dense_18_RootMeanSquaredError: 3.8745 - val_loss: 13.8947\n",
      "Epoch 58/10000\n",
      "\u001b[1m11/11\u001b[0m \u001b[32m━━━━━━━━━━━━━━━━━━━━\u001b[0m\u001b[37m\u001b[0m \u001b[1m0s\u001b[0m 11ms/step - dense_17_RootMeanSquaredError: 3.1966 - dense_18_RootMeanSquaredError: 3.3138 - loss: 10.5587 - val_dense_17_RootMeanSquaredError: 4.6075 - val_dense_18_RootMeanSquaredError: 4.6967 - val_loss: 21.3119\n",
      "Epoch 59/10000\n",
      "\u001b[1m11/11\u001b[0m \u001b[32m━━━━━━━━━━━━━━━━━━━━\u001b[0m\u001b[37m\u001b[0m \u001b[1m0s\u001b[0m 10ms/step - dense_17_RootMeanSquaredError: 2.3210 - dense_18_RootMeanSquaredError: 2.3649 - loss: 5.4218 - val_dense_17_RootMeanSquaredError: 3.5141 - val_dense_18_RootMeanSquaredError: 3.6277 - val_loss: 12.4302\n",
      "Epoch 60/10000\n",
      "\u001b[1m11/11\u001b[0m \u001b[32m━━━━━━━━━━━━━━━━━━━━\u001b[0m\u001b[37m\u001b[0m \u001b[1m0s\u001b[0m 20ms/step - dense_17_RootMeanSquaredError: 2.6725 - dense_18_RootMeanSquaredError: 2.7740 - loss: 7.3372 - val_dense_17_RootMeanSquaredError: 4.3643 - val_dense_18_RootMeanSquaredError: 4.4626 - val_loss: 19.1338\n",
      "Epoch 61/10000\n",
      "\u001b[1m11/11\u001b[0m \u001b[32m━━━━━━━━━━━━━━━━━━━━\u001b[0m\u001b[37m\u001b[0m \u001b[1m0s\u001b[0m 12ms/step - dense_17_RootMeanSquaredError: 2.0529 - dense_18_RootMeanSquaredError: 2.1064 - loss: 4.2461 - val_dense_17_RootMeanSquaredError: 3.8280 - val_dense_18_RootMeanSquaredError: 3.9543 - val_loss: 14.7519\n",
      "Epoch 62/10000\n",
      "\u001b[1m11/11\u001b[0m \u001b[32m━━━━━━━━━━━━━━━━━━━━\u001b[0m\u001b[37m\u001b[0m \u001b[1m0s\u001b[0m 11ms/step - dense_17_RootMeanSquaredError: 2.4916 - dense_18_RootMeanSquaredError: 2.5936 - loss: 6.3618 - val_dense_17_RootMeanSquaredError: 4.4592 - val_dense_18_RootMeanSquaredError: 4.5505 - val_loss: 19.9670\n",
      "Epoch 63/10000\n",
      "\u001b[1m11/11\u001b[0m \u001b[32m━━━━━━━━━━━━━━━━━━━━\u001b[0m\u001b[37m\u001b[0m \u001b[1m0s\u001b[0m 10ms/step - dense_17_RootMeanSquaredError: 2.0086 - dense_18_RootMeanSquaredError: 2.0920 - loss: 4.0870 - val_dense_17_RootMeanSquaredError: 3.9710 - val_dense_18_RootMeanSquaredError: 4.1192 - val_loss: 15.8885\n",
      "Epoch 64/10000\n",
      "\u001b[1m11/11\u001b[0m \u001b[32m━━━━━━━━━━━━━━━━━━━━\u001b[0m\u001b[37m\u001b[0m \u001b[1m0s\u001b[0m 17ms/step - dense_17_RootMeanSquaredError: 2.2019 - dense_18_RootMeanSquaredError: 2.2761 - loss: 4.9214 - val_dense_17_RootMeanSquaredError: 4.1654 - val_dense_18_RootMeanSquaredError: 4.2414 - val_loss: 17.4143\n",
      "Epoch 65/10000\n",
      "\u001b[1m11/11\u001b[0m \u001b[32m━━━━━━━━━━━━━━━━━━━━\u001b[0m\u001b[37m\u001b[0m \u001b[1m0s\u001b[0m 10ms/step - dense_17_RootMeanSquaredError: 1.8394 - dense_18_RootMeanSquaredError: 1.9078 - loss: 3.4238 - val_dense_17_RootMeanSquaredError: 3.8184 - val_dense_18_RootMeanSquaredError: 3.9185 - val_loss: 14.6574\n",
      "Epoch 66/10000\n",
      "\u001b[1m11/11\u001b[0m \u001b[32m━━━━━━━━━━━━━━━━━━━━\u001b[0m\u001b[37m\u001b[0m \u001b[1m0s\u001b[0m 14ms/step - dense_17_RootMeanSquaredError: 2.1750 - dense_18_RootMeanSquaredError: 2.3118 - loss: 4.8615 - val_dense_17_RootMeanSquaredError: 4.2832 - val_dense_18_RootMeanSquaredError: 4.3400 - val_loss: 18.3951\n",
      "Epoch 67/10000\n",
      "\u001b[1m11/11\u001b[0m \u001b[32m━━━━━━━━━━━━━━━━━━━━\u001b[0m\u001b[37m\u001b[0m \u001b[1m0s\u001b[0m 15ms/step - dense_17_RootMeanSquaredError: 1.9294 - dense_18_RootMeanSquaredError: 2.0273 - loss: 3.7671 - val_dense_17_RootMeanSquaredError: 4.0475 - val_dense_18_RootMeanSquaredError: 4.1439 - val_loss: 16.4611\n",
      "Epoch 68/10000\n",
      "\u001b[1m11/11\u001b[0m \u001b[32m━━━━━━━━━━━━━━━━━━━━\u001b[0m\u001b[37m\u001b[0m \u001b[1m0s\u001b[0m 13ms/step - dense_17_RootMeanSquaredError: 2.1895 - dense_18_RootMeanSquaredError: 2.2849 - loss: 4.9005 - val_dense_17_RootMeanSquaredError: 4.3513 - val_dense_18_RootMeanSquaredError: 4.4514 - val_loss: 19.0217\n",
      "Epoch 69/10000\n",
      "\u001b[1m11/11\u001b[0m \u001b[32m━━━━━━━━━━━━━━━━━━━━\u001b[0m\u001b[37m\u001b[0m \u001b[1m0s\u001b[0m 10ms/step - dense_17_RootMeanSquaredError: 1.9392 - dense_18_RootMeanSquaredError: 2.0342 - loss: 3.8101 - val_dense_17_RootMeanSquaredError: 4.0720 - val_dense_18_RootMeanSquaredError: 4.1962 - val_loss: 16.6840\n",
      "Epoch 70/10000\n",
      "\u001b[1m11/11\u001b[0m \u001b[32m━━━━━━━━━━━━━━━━━━━━\u001b[0m\u001b[37m\u001b[0m \u001b[1m0s\u001b[0m 11ms/step - dense_17_RootMeanSquaredError: 2.3295 - dense_18_RootMeanSquaredError: 2.4540 - loss: 5.5711 - val_dense_17_RootMeanSquaredError: 4.3818 - val_dense_18_RootMeanSquaredError: 4.4673 - val_loss: 19.2760\n",
      "Epoch 71/10000\n",
      "\u001b[1m11/11\u001b[0m \u001b[32m━━━━━━━━━━━━━━━━━━━━\u001b[0m\u001b[37m\u001b[0m \u001b[1m0s\u001b[0m 11ms/step - dense_17_RootMeanSquaredError: 1.9723 - dense_18_RootMeanSquaredError: 2.0612 - loss: 3.9336 - val_dense_17_RootMeanSquaredError: 4.0632 - val_dense_18_RootMeanSquaredError: 4.1862 - val_loss: 16.6109\n",
      "Epoch 72/10000\n",
      "\u001b[1m11/11\u001b[0m \u001b[32m━━━━━━━━━━━━━━━━━━━━\u001b[0m\u001b[37m\u001b[0m \u001b[1m0s\u001b[0m 10ms/step - dense_17_RootMeanSquaredError: 2.6402 - dense_18_RootMeanSquaredError: 2.7646 - loss: 7.1668 - val_dense_17_RootMeanSquaredError: 4.3138 - val_dense_18_RootMeanSquaredError: 4.3686 - val_loss: 18.6567\n",
      "Epoch 73/10000\n",
      "\u001b[1m11/11\u001b[0m \u001b[32m━━━━━━━━━━━━━━━━━━━━\u001b[0m\u001b[37m\u001b[0m \u001b[1m0s\u001b[0m 12ms/step - dense_17_RootMeanSquaredError: 2.2002 - dense_18_RootMeanSquaredError: 2.2848 - loss: 4.8860 - val_dense_17_RootMeanSquaredError: 3.8330 - val_dense_18_RootMeanSquaredError: 3.9257 - val_loss: 14.7641\n",
      "Epoch 74/10000\n",
      "\u001b[1m11/11\u001b[0m \u001b[32m━━━━━━━━━━━━━━━━━━━━\u001b[0m\u001b[37m\u001b[0m \u001b[1m0s\u001b[0m 12ms/step - dense_17_RootMeanSquaredError: 2.8810 - dense_18_RootMeanSquaredError: 2.9924 - loss: 8.5849 - val_dense_17_RootMeanSquaredError: 4.5710 - val_dense_18_RootMeanSquaredError: 4.6503 - val_loss: 20.9675\n",
      "Epoch 75/10000\n",
      "\u001b[1m11/11\u001b[0m \u001b[32m━━━━━━━━━━━━━━━━━━━━\u001b[0m\u001b[37m\u001b[0m \u001b[1m0s\u001b[0m 22ms/step - dense_17_RootMeanSquaredError: 2.3191 - dense_18_RootMeanSquaredError: 2.4101 - loss: 5.4316 - val_dense_17_RootMeanSquaredError: 4.0211 - val_dense_18_RootMeanSquaredError: 4.1930 - val_loss: 16.3108\n",
      "Epoch 76/10000\n",
      "\u001b[1m11/11\u001b[0m \u001b[32m━━━━━━━━━━━━━━━━━━━━\u001b[0m\u001b[37m\u001b[0m \u001b[1m0s\u001b[0m 10ms/step - dense_17_RootMeanSquaredError: 3.2779 - dense_18_RootMeanSquaredError: 3.4169 - loss: 11.1066 - val_dense_17_RootMeanSquaredError: 4.8946 - val_dense_18_RootMeanSquaredError: 5.0344 - val_loss: 24.0959\n",
      "Epoch 77/10000\n",
      "\u001b[1m11/11\u001b[0m \u001b[32m━━━━━━━━━━━━━━━━━━━━\u001b[0m\u001b[37m\u001b[0m \u001b[1m0s\u001b[0m 12ms/step - dense_17_RootMeanSquaredError: 2.5215 - dense_18_RootMeanSquaredError: 2.5978 - loss: 6.4069 - val_dense_17_RootMeanSquaredError: 3.7979 - val_dense_18_RootMeanSquaredError: 3.9294 - val_loss: 14.5259\n",
      "Epoch 78/10000\n",
      "\u001b[1m11/11\u001b[0m \u001b[32m━━━━━━━━━━━━━━━━━━━━\u001b[0m\u001b[37m\u001b[0m \u001b[1m0s\u001b[0m 13ms/step - dense_17_RootMeanSquaredError: 3.1047 - dense_18_RootMeanSquaredError: 3.2044 - loss: 9.8449 - val_dense_17_RootMeanSquaredError: 4.5272 - val_dense_18_RootMeanSquaredError: 4.6222 - val_loss: 20.5826\n",
      "Epoch 79/10000\n",
      "\u001b[1m11/11\u001b[0m \u001b[32m━━━━━━━━━━━━━━━━━━━━\u001b[0m\u001b[37m\u001b[0m \u001b[1m0s\u001b[0m 19ms/step - dense_17_RootMeanSquaredError: 2.3604 - dense_18_RootMeanSquaredError: 2.4662 - loss: 5.6327 - val_dense_17_RootMeanSquaredError: 3.5955 - val_dense_18_RootMeanSquaredError: 3.6955 - val_loss: 13.0006\n",
      "Epoch 80/10000\n",
      "\u001b[1m11/11\u001b[0m \u001b[32m━━━━━━━━━━━━━━━━━━━━\u001b[0m\u001b[37m\u001b[0m \u001b[1m0s\u001b[0m 11ms/step - dense_17_RootMeanSquaredError: 2.8241 - dense_18_RootMeanSquaredError: 2.9319 - loss: 8.2280 - val_dense_17_RootMeanSquaredError: 4.5588 - val_dense_18_RootMeanSquaredError: 4.6881 - val_loss: 20.9021\n",
      "Epoch 81/10000\n",
      "\u001b[1m11/11\u001b[0m \u001b[32m━━━━━━━━━━━━━━━━━━━━\u001b[0m\u001b[37m\u001b[0m \u001b[1m0s\u001b[0m 14ms/step - dense_17_RootMeanSquaredError: 2.2237 - dense_18_RootMeanSquaredError: 2.3343 - loss: 5.0018 - val_dense_17_RootMeanSquaredError: 4.0969 - val_dense_18_RootMeanSquaredError: 4.2125 - val_loss: 16.8805\n",
      "Epoch 82/10000\n",
      "\u001b[1m11/11\u001b[0m \u001b[32m━━━━━━━━━━━━━━━━━━━━\u001b[0m\u001b[37m\u001b[0m \u001b[1m0s\u001b[0m 12ms/step - dense_17_RootMeanSquaredError: 2.7765 - dense_18_RootMeanSquaredError: 2.9022 - loss: 7.8959 - val_dense_17_RootMeanSquaredError: 4.7491 - val_dense_18_RootMeanSquaredError: 4.8922 - val_loss: 22.6916\n",
      "Epoch 83/10000\n",
      "\u001b[1m11/11\u001b[0m \u001b[32m━━━━━━━━━━━━━━━━━━━━\u001b[0m\u001b[37m\u001b[0m \u001b[1m0s\u001b[0m 12ms/step - dense_17_RootMeanSquaredError: 2.4316 - dense_18_RootMeanSquaredError: 2.5697 - loss: 5.9999 - val_dense_17_RootMeanSquaredError: 4.1085 - val_dense_18_RootMeanSquaredError: 4.2807 - val_loss: 17.0245\n",
      "Epoch 84/10000\n",
      "\u001b[1m11/11\u001b[0m \u001b[32m━━━━━━━━━━━━━━━━━━━━\u001b[0m\u001b[37m\u001b[0m \u001b[1m0s\u001b[0m 11ms/step - dense_17_RootMeanSquaredError: 2.7521 - dense_18_RootMeanSquaredError: 2.9252 - loss: 7.7470 - val_dense_17_RootMeanSquaredError: 4.6203 - val_dense_18_RootMeanSquaredError: 4.6954 - val_loss: 21.4168\n",
      "Epoch 85/10000\n",
      "\u001b[1m11/11\u001b[0m \u001b[32m━━━━━━━━━━━━━━━━━━━━\u001b[0m\u001b[37m\u001b[0m \u001b[1m0s\u001b[0m 13ms/step - dense_17_RootMeanSquaredError: 2.5277 - dense_18_RootMeanSquaredError: 2.6495 - loss: 6.4645 - val_dense_17_RootMeanSquaredError: 4.1236 - val_dense_18_RootMeanSquaredError: 4.1870 - val_loss: 17.0569\n",
      "Epoch 86/10000\n",
      "\u001b[1m11/11\u001b[0m \u001b[32m━━━━━━━━━━━━━━━━━━━━\u001b[0m\u001b[37m\u001b[0m \u001b[1m0s\u001b[0m 11ms/step - dense_17_RootMeanSquaredError: 2.6564 - dense_18_RootMeanSquaredError: 2.7614 - loss: 7.1726 - val_dense_17_RootMeanSquaredError: 4.5437 - val_dense_18_RootMeanSquaredError: 4.6568 - val_loss: 20.7494\n"
     ]
    }
   ],
   "source": [
    "training = model.fit((X_train_wide, X_train_deep), \n",
    "                     (y_train, y_train), \n",
    "                     epochs=10000, \n",
    "                     validation_split=0.2, \n",
    "                     callbacks=[save, early_stopping])"
   ]
  },
  {
   "cell_type": "code",
   "execution_count": null,
   "id": "f8814420-af1d-46c6-ad5c-32308bdf24f0",
   "metadata": {},
   "outputs": [],
   "source": []
  },
  {
   "cell_type": "code",
   "execution_count": 74,
   "id": "2d1a3529-6728-487a-b003-c1e7748fd4c0",
   "metadata": {},
   "outputs": [
    {
     "name": "stdout",
     "output_type": "stream",
     "text": [
      "\u001b[1m4/4\u001b[0m \u001b[32m━━━━━━━━━━━━━━━━━━━━\u001b[0m\u001b[37m\u001b[0m \u001b[1m0s\u001b[0m 3ms/step - dense_17_RootMeanSquaredError: 3.8892 - dense_18_RootMeanSquaredError: 4.0037 - loss: 15.4870 \n",
      "[20.453763961791992, 4.514834880828857, 4.591732025146484]\n",
      "\u001b[1m1/1\u001b[0m \u001b[32m━━━━━━━━━━━━━━━━━━━━\u001b[0m\u001b[37m\u001b[0m \u001b[1m0s\u001b[0m 101ms/step\n"
     ]
    }
   ],
   "source": [
    "evaluation_result = model.evaluate((X_test_wide, X_test_deep), (y_test, y_test))\n",
    "print(evaluation_result)\n",
    "y_pred_out1,y_pred_out2 = model.predict((X_new_wide, X_new_deep))"
   ]
  },
  {
   "cell_type": "code",
   "execution_count": 78,
   "id": "eb33bf5d-5648-40c1-8da4-26805d794e1c",
   "metadata": {},
   "outputs": [
    {
     "name": "stdout",
     "output_type": "stream",
     "text": [
      "[[10.095829]\n",
      " [20.463589]\n",
      " [20.547218]\n",
      " [28.583282]] \n",
      "\n",
      " [[10.662706]\n",
      " [20.548586]\n",
      " [20.527906]\n",
      " [28.03617 ]]\n",
      "[ 7.2 18.8 19.  27. ]\n"
     ]
    }
   ],
   "source": [
    "print(y_pred_out1[:4],\"\\n\\n\",y_pred_out2[:4])\n",
    "print(y_test[:4])"
   ]
  },
  {
   "cell_type": "code",
   "execution_count": 80,
   "id": "4ddca10b-bebd-4c44-97ae-7dff8321b745",
   "metadata": {},
   "outputs": [],
   "source": [
    "model.save(\"FunctionalAPImodel.keras\")"
   ]
  },
  {
   "cell_type": "code",
   "execution_count": null,
   "id": "18b25bb6-0225-4655-a164-f9e08567a129",
   "metadata": {},
   "outputs": [],
   "source": []
  }
 ],
 "metadata": {
  "kernelspec": {
   "display_name": "Python 3 (ipykernel)",
   "language": "python",
   "name": "python3"
  },
  "language_info": {
   "codemirror_mode": {
    "name": "ipython",
    "version": 3
   },
   "file_extension": ".py",
   "mimetype": "text/x-python",
   "name": "python",
   "nbconvert_exporter": "python",
   "pygments_lexer": "ipython3",
   "version": "3.11.7"
  }
 },
 "nbformat": 4,
 "nbformat_minor": 5
}
