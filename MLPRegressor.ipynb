{
 "cells": [
  {
   "cell_type": "code",
   "execution_count": 72,
   "id": "14a4a6c1-5678-4fe3-a9bd-d4e4db458616",
   "metadata": {},
   "outputs": [],
   "source": [
    "\n",
    "import tensorflow as tf\n",
    "from tensorflow.keras.datasets import boston_housing\n",
    "from tensorflow import keras\n",
    "from pathlib import Path\n",
    "from time import strftime\n"
   ]
  },
  {
   "cell_type": "code",
   "execution_count": 73,
   "id": "0beec6ca-5f73-4e47-b302-b9a7b498662c",
   "metadata": {},
   "outputs": [],
   "source": [
    "def get_run_logdir(root_logdir=\"my_logs\"):\n",
    " return Path(root_logdir) / strftime(\"run_%Y_%m_%d_%H_%M_%S\")\n",
    "run_logdir = get_run_logdir()"
   ]
  },
  {
   "cell_type": "code",
   "execution_count": 74,
   "id": "acccbb89-9c1d-4a64-934f-9cab0ed74975",
   "metadata": {},
   "outputs": [],
   "source": [
    "(X_train, y_train), (X_test, y_test) = boston_housing.load_data()"
   ]
  },
  {
   "cell_type": "code",
   "execution_count": 75,
   "id": "c244254e-0cf1-4743-bb4a-92fc191c3ec9",
   "metadata": {},
   "outputs": [
    {
     "name": "stdout",
     "output_type": "stream",
     "text": [
      "(404, 13)\n",
      "float64\n"
     ]
    }
   ],
   "source": [
    "print(X_train.shape)\n",
    "print(X_train.dtype)"
   ]
  },
  {
   "cell_type": "code",
   "execution_count": 76,
   "id": "a424e307-52e3-4142-a6a6-19d2a900b4f0",
   "metadata": {},
   "outputs": [
    {
     "name": "stdout",
     "output_type": "stream",
     "text": [
      "(404,)\n",
      "float64\n"
     ]
    }
   ],
   "source": [
    "print(y_train.shape)\n",
    "print(y_train.dtype)"
   ]
  },
  {
   "cell_type": "code",
   "execution_count": 77,
   "id": "3fd2161f-8d3d-4e66-97c1-15dbf75cf7ff",
   "metadata": {},
   "outputs": [],
   "source": [
    "tf.random.set_seed(60)"
   ]
  },
  {
   "cell_type": "code",
   "execution_count": 78,
   "id": "2b5bf2ec-f541-47a0-8368-6d4fad15df33",
   "metadata": {},
   "outputs": [],
   "source": [
    "norm = keras.layers.Normalization(input_shape=X_train.shape[1:])\n",
    "model = keras.Sequential([\n",
    "    norm,\n",
    "    keras.layers.Dense(300, activation = 'relu'),\n",
    "    keras.layers.Dense(300, activation = 'relu'),\n",
    "    keras.layers.Dense(300, activation = 'relu'),\n",
    "    keras.layers.Dense(300, activation = 'relu'),\n",
    "    keras.layers.Dense(300, activation = 'relu'),\n",
    "    keras.layers.Dense(300, activation = 'relu'),\n",
    "    keras.layers.Dense(1),\n",
    "])"
   ]
  },
  {
   "cell_type": "code",
   "execution_count": 79,
   "id": "f1715e4d-7c9e-4fef-af2c-73be91f9d194",
   "metadata": {},
   "outputs": [
    {
     "name": "stdout",
     "output_type": "stream",
     "text": [
      "[<Normalization name=normalization_4, built=True>, <Dense name=dense_25, built=True>, <Dense name=dense_26, built=True>, <Dense name=dense_27, built=True>, <Dense name=dense_28, built=True>, <Dense name=dense_29, built=True>, <Dense name=dense_30, built=True>, <Dense name=dense_31, built=True>]\n"
     ]
    }
   ],
   "source": [
    "print(model.layers)"
   ]
  },
  {
   "cell_type": "code",
   "execution_count": 80,
   "id": "f7a332fb-1070-4205-a8dc-07d47b28c5cd",
   "metadata": {},
   "outputs": [
    {
     "name": "stdout",
     "output_type": "stream",
     "text": [
      "dense_26\n",
      "(300, 300)\n",
      "[[-0.07121613 -0.03397369 -0.01392169 ... -0.0019144   0.0389035\n",
      "  -0.0305722 ]\n",
      " [ 0.01802595  0.03375762 -0.08167682 ... -0.04240253  0.05248893\n",
      "   0.04054827]\n",
      " [-0.06134031  0.07768065 -0.02902486 ... -0.07197704 -0.05289314\n",
      "   0.0281168 ]\n",
      " ...\n",
      " [-0.0686336   0.08783414 -0.07164655 ... -0.03863242 -0.06925516\n",
      "   0.00220909]\n",
      " [-0.06749527 -0.05685332  0.0721978  ...  0.02855743 -0.0877502\n",
      "   0.00851937]\n",
      " [ 0.02217984 -0.06428206  0.09496284 ...  0.01783796  0.00959437\n",
      "  -0.04594641]]\n",
      "(300,)\n",
      "[0. 0. 0. 0. 0. 0. 0. 0. 0. 0. 0. 0. 0. 0. 0. 0. 0. 0. 0. 0. 0. 0. 0. 0.\n",
      " 0. 0. 0. 0. 0. 0. 0. 0. 0. 0. 0. 0. 0. 0. 0. 0. 0. 0. 0. 0. 0. 0. 0. 0.\n",
      " 0. 0. 0. 0. 0. 0. 0. 0. 0. 0. 0. 0. 0. 0. 0. 0. 0. 0. 0. 0. 0. 0. 0. 0.\n",
      " 0. 0. 0. 0. 0. 0. 0. 0. 0. 0. 0. 0. 0. 0. 0. 0. 0. 0. 0. 0. 0. 0. 0. 0.\n",
      " 0. 0. 0. 0. 0. 0. 0. 0. 0. 0. 0. 0. 0. 0. 0. 0. 0. 0. 0. 0. 0. 0. 0. 0.\n",
      " 0. 0. 0. 0. 0. 0. 0. 0. 0. 0. 0. 0. 0. 0. 0. 0. 0. 0. 0. 0. 0. 0. 0. 0.\n",
      " 0. 0. 0. 0. 0. 0. 0. 0. 0. 0. 0. 0. 0. 0. 0. 0. 0. 0. 0. 0. 0. 0. 0. 0.\n",
      " 0. 0. 0. 0. 0. 0. 0. 0. 0. 0. 0. 0. 0. 0. 0. 0. 0. 0. 0. 0. 0. 0. 0. 0.\n",
      " 0. 0. 0. 0. 0. 0. 0. 0. 0. 0. 0. 0. 0. 0. 0. 0. 0. 0. 0. 0. 0. 0. 0. 0.\n",
      " 0. 0. 0. 0. 0. 0. 0. 0. 0. 0. 0. 0. 0. 0. 0. 0. 0. 0. 0. 0. 0. 0. 0. 0.\n",
      " 0. 0. 0. 0. 0. 0. 0. 0. 0. 0. 0. 0. 0. 0. 0. 0. 0. 0. 0. 0. 0. 0. 0. 0.\n",
      " 0. 0. 0. 0. 0. 0. 0. 0. 0. 0. 0. 0. 0. 0. 0. 0. 0. 0. 0. 0. 0. 0. 0. 0.\n",
      " 0. 0. 0. 0. 0. 0. 0. 0. 0. 0. 0. 0.]\n"
     ]
    }
   ],
   "source": [
    "layer2 = model.layers[2]\n",
    "print(layer2.name)\n",
    "weights, bias = layer2.get_weights()\n",
    "print(weights.shape)\n",
    "\n",
    "print(weights)\n",
    "\n",
    "print(bias.shape)\n",
    "\n",
    "print(bias)"
   ]
  },
  {
   "cell_type": "code",
   "execution_count": 81,
   "id": "871adaee-15d2-491e-ad09-74aea77b3b3d",
   "metadata": {},
   "outputs": [
    {
     "data": {
      "text/html": [
       "<pre style=\"white-space:pre;overflow-x:auto;line-height:normal;font-family:Menlo,'DejaVu Sans Mono',consolas,'Courier New',monospace\"><span style=\"font-weight: bold\">Model: \"sequential_4\"</span>\n",
       "</pre>\n"
      ],
      "text/plain": [
       "\u001b[1mModel: \"sequential_4\"\u001b[0m\n"
      ]
     },
     "metadata": {},
     "output_type": "display_data"
    },
    {
     "data": {
      "text/html": [
       "<pre style=\"white-space:pre;overflow-x:auto;line-height:normal;font-family:Menlo,'DejaVu Sans Mono',consolas,'Courier New',monospace\">┏━━━━━━━━━━━━━━━━━━━━━━━━━━━━━━━━━┳━━━━━━━━━━━━━━━━━━━━━━━━┳━━━━━━━━━━━━━━━┓\n",
       "┃<span style=\"font-weight: bold\"> Layer (type)                    </span>┃<span style=\"font-weight: bold\"> Output Shape           </span>┃<span style=\"font-weight: bold\">       Param # </span>┃\n",
       "┡━━━━━━━━━━━━━━━━━━━━━━━━━━━━━━━━━╇━━━━━━━━━━━━━━━━━━━━━━━━╇━━━━━━━━━━━━━━━┩\n",
       "│ normalization_4 (<span style=\"color: #0087ff; text-decoration-color: #0087ff\">Normalization</span>) │ (<span style=\"color: #00d7ff; text-decoration-color: #00d7ff\">None</span>, <span style=\"color: #00af00; text-decoration-color: #00af00\">13</span>)             │            <span style=\"color: #00af00; text-decoration-color: #00af00\">27</span> │\n",
       "├─────────────────────────────────┼────────────────────────┼───────────────┤\n",
       "│ dense_25 (<span style=\"color: #0087ff; text-decoration-color: #0087ff\">Dense</span>)                │ (<span style=\"color: #00d7ff; text-decoration-color: #00d7ff\">None</span>, <span style=\"color: #00af00; text-decoration-color: #00af00\">300</span>)            │         <span style=\"color: #00af00; text-decoration-color: #00af00\">4,200</span> │\n",
       "├─────────────────────────────────┼────────────────────────┼───────────────┤\n",
       "│ dense_26 (<span style=\"color: #0087ff; text-decoration-color: #0087ff\">Dense</span>)                │ (<span style=\"color: #00d7ff; text-decoration-color: #00d7ff\">None</span>, <span style=\"color: #00af00; text-decoration-color: #00af00\">300</span>)            │        <span style=\"color: #00af00; text-decoration-color: #00af00\">90,300</span> │\n",
       "├─────────────────────────────────┼────────────────────────┼───────────────┤\n",
       "│ dense_27 (<span style=\"color: #0087ff; text-decoration-color: #0087ff\">Dense</span>)                │ (<span style=\"color: #00d7ff; text-decoration-color: #00d7ff\">None</span>, <span style=\"color: #00af00; text-decoration-color: #00af00\">300</span>)            │        <span style=\"color: #00af00; text-decoration-color: #00af00\">90,300</span> │\n",
       "├─────────────────────────────────┼────────────────────────┼───────────────┤\n",
       "│ dense_28 (<span style=\"color: #0087ff; text-decoration-color: #0087ff\">Dense</span>)                │ (<span style=\"color: #00d7ff; text-decoration-color: #00d7ff\">None</span>, <span style=\"color: #00af00; text-decoration-color: #00af00\">300</span>)            │        <span style=\"color: #00af00; text-decoration-color: #00af00\">90,300</span> │\n",
       "├─────────────────────────────────┼────────────────────────┼───────────────┤\n",
       "│ dense_29 (<span style=\"color: #0087ff; text-decoration-color: #0087ff\">Dense</span>)                │ (<span style=\"color: #00d7ff; text-decoration-color: #00d7ff\">None</span>, <span style=\"color: #00af00; text-decoration-color: #00af00\">300</span>)            │        <span style=\"color: #00af00; text-decoration-color: #00af00\">90,300</span> │\n",
       "├─────────────────────────────────┼────────────────────────┼───────────────┤\n",
       "│ dense_30 (<span style=\"color: #0087ff; text-decoration-color: #0087ff\">Dense</span>)                │ (<span style=\"color: #00d7ff; text-decoration-color: #00d7ff\">None</span>, <span style=\"color: #00af00; text-decoration-color: #00af00\">300</span>)            │        <span style=\"color: #00af00; text-decoration-color: #00af00\">90,300</span> │\n",
       "├─────────────────────────────────┼────────────────────────┼───────────────┤\n",
       "│ dense_31 (<span style=\"color: #0087ff; text-decoration-color: #0087ff\">Dense</span>)                │ (<span style=\"color: #00d7ff; text-decoration-color: #00d7ff\">None</span>, <span style=\"color: #00af00; text-decoration-color: #00af00\">1</span>)              │           <span style=\"color: #00af00; text-decoration-color: #00af00\">301</span> │\n",
       "└─────────────────────────────────┴────────────────────────┴───────────────┘\n",
       "</pre>\n"
      ],
      "text/plain": [
       "┏━━━━━━━━━━━━━━━━━━━━━━━━━━━━━━━━━┳━━━━━━━━━━━━━━━━━━━━━━━━┳━━━━━━━━━━━━━━━┓\n",
       "┃\u001b[1m \u001b[0m\u001b[1mLayer (type)                   \u001b[0m\u001b[1m \u001b[0m┃\u001b[1m \u001b[0m\u001b[1mOutput Shape          \u001b[0m\u001b[1m \u001b[0m┃\u001b[1m \u001b[0m\u001b[1m      Param #\u001b[0m\u001b[1m \u001b[0m┃\n",
       "┡━━━━━━━━━━━━━━━━━━━━━━━━━━━━━━━━━╇━━━━━━━━━━━━━━━━━━━━━━━━╇━━━━━━━━━━━━━━━┩\n",
       "│ normalization_4 (\u001b[38;5;33mNormalization\u001b[0m) │ (\u001b[38;5;45mNone\u001b[0m, \u001b[38;5;34m13\u001b[0m)             │            \u001b[38;5;34m27\u001b[0m │\n",
       "├─────────────────────────────────┼────────────────────────┼───────────────┤\n",
       "│ dense_25 (\u001b[38;5;33mDense\u001b[0m)                │ (\u001b[38;5;45mNone\u001b[0m, \u001b[38;5;34m300\u001b[0m)            │         \u001b[38;5;34m4,200\u001b[0m │\n",
       "├─────────────────────────────────┼────────────────────────┼───────────────┤\n",
       "│ dense_26 (\u001b[38;5;33mDense\u001b[0m)                │ (\u001b[38;5;45mNone\u001b[0m, \u001b[38;5;34m300\u001b[0m)            │        \u001b[38;5;34m90,300\u001b[0m │\n",
       "├─────────────────────────────────┼────────────────────────┼───────────────┤\n",
       "│ dense_27 (\u001b[38;5;33mDense\u001b[0m)                │ (\u001b[38;5;45mNone\u001b[0m, \u001b[38;5;34m300\u001b[0m)            │        \u001b[38;5;34m90,300\u001b[0m │\n",
       "├─────────────────────────────────┼────────────────────────┼───────────────┤\n",
       "│ dense_28 (\u001b[38;5;33mDense\u001b[0m)                │ (\u001b[38;5;45mNone\u001b[0m, \u001b[38;5;34m300\u001b[0m)            │        \u001b[38;5;34m90,300\u001b[0m │\n",
       "├─────────────────────────────────┼────────────────────────┼───────────────┤\n",
       "│ dense_29 (\u001b[38;5;33mDense\u001b[0m)                │ (\u001b[38;5;45mNone\u001b[0m, \u001b[38;5;34m300\u001b[0m)            │        \u001b[38;5;34m90,300\u001b[0m │\n",
       "├─────────────────────────────────┼────────────────────────┼───────────────┤\n",
       "│ dense_30 (\u001b[38;5;33mDense\u001b[0m)                │ (\u001b[38;5;45mNone\u001b[0m, \u001b[38;5;34m300\u001b[0m)            │        \u001b[38;5;34m90,300\u001b[0m │\n",
       "├─────────────────────────────────┼────────────────────────┼───────────────┤\n",
       "│ dense_31 (\u001b[38;5;33mDense\u001b[0m)                │ (\u001b[38;5;45mNone\u001b[0m, \u001b[38;5;34m1\u001b[0m)              │           \u001b[38;5;34m301\u001b[0m │\n",
       "└─────────────────────────────────┴────────────────────────┴───────────────┘\n"
      ]
     },
     "metadata": {},
     "output_type": "display_data"
    },
    {
     "data": {
      "text/html": [
       "<pre style=\"white-space:pre;overflow-x:auto;line-height:normal;font-family:Menlo,'DejaVu Sans Mono',consolas,'Courier New',monospace\"><span style=\"font-weight: bold\"> Total params: </span><span style=\"color: #00af00; text-decoration-color: #00af00\">456,028</span> (1.74 MB)\n",
       "</pre>\n"
      ],
      "text/plain": [
       "\u001b[1m Total params: \u001b[0m\u001b[38;5;34m456,028\u001b[0m (1.74 MB)\n"
      ]
     },
     "metadata": {},
     "output_type": "display_data"
    },
    {
     "data": {
      "text/html": [
       "<pre style=\"white-space:pre;overflow-x:auto;line-height:normal;font-family:Menlo,'DejaVu Sans Mono',consolas,'Courier New',monospace\"><span style=\"font-weight: bold\"> Trainable params: </span><span style=\"color: #00af00; text-decoration-color: #00af00\">456,001</span> (1.74 MB)\n",
       "</pre>\n"
      ],
      "text/plain": [
       "\u001b[1m Trainable params: \u001b[0m\u001b[38;5;34m456,001\u001b[0m (1.74 MB)\n"
      ]
     },
     "metadata": {},
     "output_type": "display_data"
    },
    {
     "data": {
      "text/html": [
       "<pre style=\"white-space:pre;overflow-x:auto;line-height:normal;font-family:Menlo,'DejaVu Sans Mono',consolas,'Courier New',monospace\"><span style=\"font-weight: bold\"> Non-trainable params: </span><span style=\"color: #00af00; text-decoration-color: #00af00\">27</span> (112.00 B)\n",
       "</pre>\n"
      ],
      "text/plain": [
       "\u001b[1m Non-trainable params: \u001b[0m\u001b[38;5;34m27\u001b[0m (112.00 B)\n"
      ]
     },
     "metadata": {},
     "output_type": "display_data"
    },
    {
     "name": "stdout",
     "output_type": "stream",
     "text": [
      "None\n"
     ]
    }
   ],
   "source": [
    "print(model.summary())"
   ]
  },
  {
   "cell_type": "code",
   "execution_count": 82,
   "id": "789b3397-3c47-4821-93a9-7dcfab973ffe",
   "metadata": {},
   "outputs": [],
   "source": [
    "model.compile(loss = 'mse', optimizer = keras.optimizers.Adam(learning_rate=0.01),metrics=[\"RootMeanSquaredError\"])\n",
    "norm.adapt(X_train)"
   ]
  },
  {
   "cell_type": "code",
   "execution_count": 83,
   "id": "b02f1f3d-2ee7-43bb-8091-289404d7af6f",
   "metadata": {},
   "outputs": [
    {
     "name": "stdout",
     "output_type": "stream",
     "text": [
      "The tensorboard extension is already loaded. To reload it, use:\n",
      "  %reload_ext tensorboard\n"
     ]
    },
    {
     "data": {
      "text/plain": [
       "Reusing TensorBoard on port 6006 (pid 8248), started 6:56:55 ago. (Use '!kill 8248' to kill it.)"
      ]
     },
     "metadata": {},
     "output_type": "display_data"
    },
    {
     "data": {
      "text/html": [
       "\n",
       "      <iframe id=\"tensorboard-frame-cbcd0cf31d640570\" width=\"100%\" height=\"800\" frameborder=\"0\">\n",
       "      </iframe>\n",
       "      <script>\n",
       "        (function() {\n",
       "          const frame = document.getElementById(\"tensorboard-frame-cbcd0cf31d640570\");\n",
       "          const url = new URL(\"/\", window.location);\n",
       "          const port = 6006;\n",
       "          if (port) {\n",
       "            url.port = port;\n",
       "          }\n",
       "          frame.src = url;\n",
       "        })();\n",
       "      </script>\n",
       "    "
      ],
      "text/plain": [
       "<IPython.core.display.HTML object>"
      ]
     },
     "metadata": {},
     "output_type": "display_data"
    }
   ],
   "source": [
    "save = tf.keras.callbacks.ModelCheckpoint(filepath=\"checkpoints.weights.h5\",save_weights_only=True)\n",
    "early_stopping = tf.keras.callbacks.EarlyStopping(patience=45, restore_best_weights=True, monitor=\"val_loss\")\n",
    "%load_ext tensorboard\n",
    "%tensorboard --logdir=./my_logs\n",
    "tensorboard_cb = tf.keras.callbacks.TensorBoard(run_logdir,\n",
    " profile_batch=\n",
    "(100, 200))\n",
    "\n",
    "\n"
   ]
  },
  {
   "cell_type": "code",
   "execution_count": 84,
   "id": "8acc877b-155c-4009-947c-b37a54c05e3a",
   "metadata": {},
   "outputs": [
    {
     "name": "stdout",
     "output_type": "stream",
     "text": [
      "Epoch 1/10000\n",
      "\u001b[1m11/11\u001b[0m \u001b[32m━━━━━━━━━━━━━━━━━━━━\u001b[0m\u001b[37m\u001b[0m \u001b[1m36s\u001b[0m 335ms/step - RootMeanSquaredError: 26.5383 - loss: 733.9878 - val_RootMeanSquaredError: 23.0177 - val_loss: 529.8124\n",
      "Epoch 2/10000\n",
      "\u001b[1m11/11\u001b[0m \u001b[32m━━━━━━━━━━━━━━━━━━━━\u001b[0m\u001b[37m\u001b[0m \u001b[1m1s\u001b[0m 79ms/step - RootMeanSquaredError: 17.4137 - loss: 304.7065 - val_RootMeanSquaredError: 15.9090 - val_loss: 253.0954\n",
      "Epoch 3/10000\n",
      "\u001b[1m11/11\u001b[0m \u001b[32m━━━━━━━━━━━━━━━━━━━━\u001b[0m\u001b[37m\u001b[0m \u001b[1m1s\u001b[0m 71ms/step - RootMeanSquaredError: 10.9758 - loss: 121.1838 - val_RootMeanSquaredError: 6.9280 - val_loss: 47.9970\n",
      "Epoch 4/10000\n",
      "\u001b[1m11/11\u001b[0m \u001b[32m━━━━━━━━━━━━━━━━━━━━\u001b[0m\u001b[37m\u001b[0m \u001b[1m1s\u001b[0m 88ms/step - RootMeanSquaredError: 5.6421 - loss: 32.1735 - val_RootMeanSquaredError: 5.3921 - val_loss: 29.0742\n",
      "Epoch 5/10000\n",
      "\u001b[1m11/11\u001b[0m \u001b[32m━━━━━━━━━━━━━━━━━━━━\u001b[0m\u001b[37m\u001b[0m \u001b[1m1s\u001b[0m 81ms/step - RootMeanSquaredError: 4.4033 - loss: 19.6828 - val_RootMeanSquaredError: 4.6068 - val_loss: 21.2225\n",
      "Epoch 6/10000\n",
      "\u001b[1m11/11\u001b[0m \u001b[32m━━━━━━━━━━━━━━━━━━━━\u001b[0m\u001b[37m\u001b[0m \u001b[1m1s\u001b[0m 85ms/step - RootMeanSquaredError: 3.7990 - loss: 14.5467 - val_RootMeanSquaredError: 4.3828 - val_loss: 19.2088\n",
      "Epoch 7/10000\n",
      "\u001b[1m11/11\u001b[0m \u001b[32m━━━━━━━━━━━━━━━━━━━━\u001b[0m\u001b[37m\u001b[0m \u001b[1m1s\u001b[0m 87ms/step - RootMeanSquaredError: 3.5801 - loss: 12.8979 - val_RootMeanSquaredError: 3.9610 - val_loss: 15.6897\n",
      "Epoch 8/10000\n",
      "\u001b[1m11/11\u001b[0m \u001b[32m━━━━━━━━━━━━━━━━━━━━\u001b[0m\u001b[37m\u001b[0m \u001b[1m1s\u001b[0m 68ms/step - RootMeanSquaredError: 3.2466 - loss: 10.6362 - val_RootMeanSquaredError: 3.9079 - val_loss: 15.2715\n",
      "Epoch 9/10000\n",
      "\u001b[1m11/11\u001b[0m \u001b[32m━━━━━━━━━━━━━━━━━━━━\u001b[0m\u001b[37m\u001b[0m \u001b[1m1s\u001b[0m 58ms/step - RootMeanSquaredError: 3.0919 - loss: 9.6027 - val_RootMeanSquaredError: 4.0587 - val_loss: 16.4730\n",
      "Epoch 10/10000\n",
      "\u001b[1m11/11\u001b[0m \u001b[32m━━━━━━━━━━━━━━━━━━━━\u001b[0m\u001b[37m\u001b[0m \u001b[1m1s\u001b[0m 65ms/step - RootMeanSquaredError: 3.0574 - loss: 9.3740 - val_RootMeanSquaredError: 3.9485 - val_loss: 15.5907\n",
      "Epoch 11/10000\n",
      "\u001b[1m11/11\u001b[0m \u001b[32m━━━━━━━━━━━━━━━━━━━━\u001b[0m\u001b[37m\u001b[0m \u001b[1m1s\u001b[0m 79ms/step - RootMeanSquaredError: 2.9208 - loss: 8.5551 - val_RootMeanSquaredError: 4.0122 - val_loss: 16.0977\n",
      "Epoch 12/10000\n",
      "\u001b[1m11/11\u001b[0m \u001b[32m━━━━━━━━━━━━━━━━━━━━\u001b[0m\u001b[37m\u001b[0m \u001b[1m1s\u001b[0m 88ms/step - RootMeanSquaredError: 2.8635 - loss: 8.2267 - val_RootMeanSquaredError: 3.8990 - val_loss: 15.2021\n",
      "Epoch 13/10000\n",
      "\u001b[1m11/11\u001b[0m \u001b[32m━━━━━━━━━━━━━━━━━━━━\u001b[0m\u001b[37m\u001b[0m \u001b[1m1s\u001b[0m 77ms/step - RootMeanSquaredError: 2.7391 - loss: 7.5287 - val_RootMeanSquaredError: 3.9368 - val_loss: 15.4982\n",
      "Epoch 14/10000\n",
      "\u001b[1m11/11\u001b[0m \u001b[32m━━━━━━━━━━━━━━━━━━━━\u001b[0m\u001b[37m\u001b[0m \u001b[1m1s\u001b[0m 99ms/step - RootMeanSquaredError: 2.6858 - loss: 7.2421 - val_RootMeanSquaredError: 3.9321 - val_loss: 15.4616\n",
      "Epoch 15/10000\n",
      "\u001b[1m11/11\u001b[0m \u001b[32m━━━━━━━━━━━━━━━━━━━━\u001b[0m\u001b[37m\u001b[0m \u001b[1m1s\u001b[0m 78ms/step - RootMeanSquaredError: 2.6559 - loss: 7.0699 - val_RootMeanSquaredError: 4.2176 - val_loss: 17.7885\n",
      "Epoch 16/10000\n",
      "\u001b[1m11/11\u001b[0m \u001b[32m━━━━━━━━━━━━━━━━━━━━\u001b[0m\u001b[37m\u001b[0m \u001b[1m1s\u001b[0m 82ms/step - RootMeanSquaredError: 2.5955 - loss: 6.7650 - val_RootMeanSquaredError: 4.0776 - val_loss: 16.6265\n",
      "Epoch 17/10000\n",
      "\u001b[1m11/11\u001b[0m \u001b[32m━━━━━━━━━━━━━━━━━━━━\u001b[0m\u001b[37m\u001b[0m \u001b[1m1s\u001b[0m 75ms/step - RootMeanSquaredError: 2.6469 - loss: 7.0227 - val_RootMeanSquaredError: 4.2201 - val_loss: 17.8093\n",
      "Epoch 18/10000\n",
      "\u001b[1m11/11\u001b[0m \u001b[32m━━━━━━━━━━━━━━━━━━━━\u001b[0m\u001b[37m\u001b[0m \u001b[1m1s\u001b[0m 76ms/step - RootMeanSquaredError: 2.5216 - loss: 6.3747 - val_RootMeanSquaredError: 4.1195 - val_loss: 16.9700\n",
      "Epoch 19/10000\n",
      "\u001b[1m11/11\u001b[0m \u001b[32m━━━━━━━━━━━━━━━━━━━━\u001b[0m\u001b[37m\u001b[0m \u001b[1m25s\u001b[0m 2s/step - RootMeanSquaredError: 2.6729 - loss: 7.1632 - val_RootMeanSquaredError: 3.7550 - val_loss: 14.1000\n",
      "Epoch 20/10000\n",
      "\u001b[1m11/11\u001b[0m \u001b[32m━━━━━━━━━━━━━━━━━━━━\u001b[0m\u001b[37m\u001b[0m \u001b[1m1s\u001b[0m 79ms/step - RootMeanSquaredError: 2.6381 - loss: 6.9785 - val_RootMeanSquaredError: 4.4085 - val_loss: 19.4350\n",
      "Epoch 21/10000\n",
      "\u001b[1m11/11\u001b[0m \u001b[32m━━━━━━━━━━━━━━━━━━━━\u001b[0m\u001b[37m\u001b[0m \u001b[1m1s\u001b[0m 61ms/step - RootMeanSquaredError: 2.3348 - loss: 5.4774 - val_RootMeanSquaredError: 3.6277 - val_loss: 13.1600\n",
      "Epoch 22/10000\n",
      "\u001b[1m11/11\u001b[0m \u001b[32m━━━━━━━━━━━━━━━━━━━━\u001b[0m\u001b[37m\u001b[0m \u001b[1m1s\u001b[0m 78ms/step - RootMeanSquaredError: 2.6675 - loss: 7.1894 - val_RootMeanSquaredError: 3.7798 - val_loss: 14.2872\n",
      "Epoch 23/10000\n",
      "\u001b[1m11/11\u001b[0m \u001b[32m━━━━━━━━━━━━━━━━━━━━\u001b[0m\u001b[37m\u001b[0m \u001b[1m1s\u001b[0m 80ms/step - RootMeanSquaredError: 2.6284 - loss: 6.9269 - val_RootMeanSquaredError: 3.6486 - val_loss: 13.3122\n",
      "Epoch 24/10000\n",
      "\u001b[1m11/11\u001b[0m \u001b[32m━━━━━━━━━━━━━━━━━━━━\u001b[0m\u001b[37m\u001b[0m \u001b[1m1s\u001b[0m 90ms/step - RootMeanSquaredError: 2.5583 - loss: 6.5770 - val_RootMeanSquaredError: 4.6480 - val_loss: 21.6039\n",
      "Epoch 25/10000\n",
      "\u001b[1m11/11\u001b[0m \u001b[32m━━━━━━━━━━━━━━━━━━━━\u001b[0m\u001b[37m\u001b[0m \u001b[1m1s\u001b[0m 46ms/step - RootMeanSquaredError: 2.8239 - loss: 7.9911 - val_RootMeanSquaredError: 4.0640 - val_loss: 16.5160\n",
      "Epoch 26/10000\n",
      "\u001b[1m11/11\u001b[0m \u001b[32m━━━━━━━━━━━━━━━━━━━━\u001b[0m\u001b[37m\u001b[0m \u001b[1m1s\u001b[0m 90ms/step - RootMeanSquaredError: 3.0127 - loss: 9.1203 - val_RootMeanSquaredError: 4.5054 - val_loss: 20.2983\n",
      "Epoch 27/10000\n",
      "\u001b[1m11/11\u001b[0m \u001b[32m━━━━━━━━━━━━━━━━━━━━\u001b[0m\u001b[37m\u001b[0m \u001b[1m1s\u001b[0m 75ms/step - RootMeanSquaredError: 3.6137 - loss: 13.0792 - val_RootMeanSquaredError: 4.1511 - val_loss: 17.2314\n",
      "Epoch 28/10000\n",
      "\u001b[1m11/11\u001b[0m \u001b[32m━━━━━━━━━━━━━━━━━━━━\u001b[0m\u001b[37m\u001b[0m \u001b[1m1s\u001b[0m 81ms/step - RootMeanSquaredError: 2.6936 - loss: 7.2728 - val_RootMeanSquaredError: 4.5947 - val_loss: 21.1112\n",
      "Epoch 29/10000\n",
      "\u001b[1m11/11\u001b[0m \u001b[32m━━━━━━━━━━━━━━━━━━━━\u001b[0m\u001b[37m\u001b[0m \u001b[1m1s\u001b[0m 79ms/step - RootMeanSquaredError: 3.9677 - loss: 16.0578 - val_RootMeanSquaredError: 5.7404 - val_loss: 32.9516\n",
      "Epoch 30/10000\n",
      "\u001b[1m11/11\u001b[0m \u001b[32m━━━━━━━━━━━━━━━━━━━━\u001b[0m\u001b[37m\u001b[0m \u001b[1m1s\u001b[0m 84ms/step - RootMeanSquaredError: 4.5102 - loss: 20.5163 - val_RootMeanSquaredError: 4.9171 - val_loss: 24.1782\n",
      "Epoch 31/10000\n",
      "\u001b[1m11/11\u001b[0m \u001b[32m━━━━━━━━━━━━━━━━━━━━\u001b[0m\u001b[37m\u001b[0m \u001b[1m1s\u001b[0m 78ms/step - RootMeanSquaredError: 3.7193 - loss: 13.8537 - val_RootMeanSquaredError: 7.4981 - val_loss: 56.2216\n",
      "Epoch 32/10000\n",
      "\u001b[1m11/11\u001b[0m \u001b[32m━━━━━━━━━━━━━━━━━━━━\u001b[0m\u001b[37m\u001b[0m \u001b[1m1s\u001b[0m 69ms/step - RootMeanSquaredError: 4.8604 - loss: 23.7180 - val_RootMeanSquaredError: 5.0077 - val_loss: 25.0768\n",
      "Epoch 33/10000\n",
      "\u001b[1m11/11\u001b[0m \u001b[32m━━━━━━━━━━━━━━━━━━━━\u001b[0m\u001b[37m\u001b[0m \u001b[1m1s\u001b[0m 79ms/step - RootMeanSquaredError: 3.7726 - loss: 14.2544 - val_RootMeanSquaredError: 4.2279 - val_loss: 17.8750\n",
      "Epoch 34/10000\n",
      "\u001b[1m11/11\u001b[0m \u001b[32m━━━━━━━━━━━━━━━━━━━━\u001b[0m\u001b[37m\u001b[0m \u001b[1m1s\u001b[0m 82ms/step - RootMeanSquaredError: 3.3370 - loss: 11.1478 - val_RootMeanSquaredError: 6.3953 - val_loss: 40.8993\n",
      "Epoch 35/10000\n",
      "\u001b[1m11/11\u001b[0m \u001b[32m━━━━━━━━━━━━━━━━━━━━\u001b[0m\u001b[37m\u001b[0m \u001b[1m1s\u001b[0m 79ms/step - RootMeanSquaredError: 3.8725 - loss: 15.0997 - val_RootMeanSquaredError: 5.3471 - val_loss: 28.5916\n",
      "Epoch 36/10000\n",
      "\u001b[1m11/11\u001b[0m \u001b[32m━━━━━━━━━━━━━━━━━━━━\u001b[0m\u001b[37m\u001b[0m \u001b[1m1s\u001b[0m 75ms/step - RootMeanSquaredError: 4.5872 - loss: 21.1455 - val_RootMeanSquaredError: 4.9003 - val_loss: 24.0128\n",
      "Epoch 37/10000\n",
      "\u001b[1m11/11\u001b[0m \u001b[32m━━━━━━━━━━━━━━━━━━━━\u001b[0m\u001b[37m\u001b[0m \u001b[1m1s\u001b[0m 81ms/step - RootMeanSquaredError: 4.1769 - loss: 17.5127 - val_RootMeanSquaredError: 5.6816 - val_loss: 32.2801\n",
      "Epoch 38/10000\n",
      "\u001b[1m11/11\u001b[0m \u001b[32m━━━━━━━━━━━━━━━━━━━━\u001b[0m\u001b[37m\u001b[0m \u001b[1m1s\u001b[0m 80ms/step - RootMeanSquaredError: 4.4048 - loss: 19.5798 - val_RootMeanSquaredError: 3.6355 - val_loss: 13.2172\n",
      "Epoch 39/10000\n",
      "\u001b[1m11/11\u001b[0m \u001b[32m━━━━━━━━━━━━━━━━━━━━\u001b[0m\u001b[37m\u001b[0m \u001b[1m1s\u001b[0m 88ms/step - RootMeanSquaredError: 3.8024 - loss: 14.7977 - val_RootMeanSquaredError: 6.4100 - val_loss: 41.0881\n",
      "Epoch 40/10000\n",
      "\u001b[1m11/11\u001b[0m \u001b[32m━━━━━━━━━━━━━━━━━━━━\u001b[0m\u001b[37m\u001b[0m \u001b[1m1s\u001b[0m 78ms/step - RootMeanSquaredError: 8.0153 - loss: 65.9034 - val_RootMeanSquaredError: 6.0810 - val_loss: 36.9780\n",
      "Epoch 41/10000\n",
      "\u001b[1m11/11\u001b[0m \u001b[32m━━━━━━━━━━━━━━━━━━━━\u001b[0m\u001b[37m\u001b[0m \u001b[1m1s\u001b[0m 80ms/step - RootMeanSquaredError: 5.0658 - loss: 25.8920 - val_RootMeanSquaredError: 3.7249 - val_loss: 13.8752\n",
      "Epoch 42/10000\n",
      "\u001b[1m11/11\u001b[0m \u001b[32m━━━━━━━━━━━━━━━━━━━━\u001b[0m\u001b[37m\u001b[0m \u001b[1m1s\u001b[0m 80ms/step - RootMeanSquaredError: 5.2093 - loss: 27.8903 - val_RootMeanSquaredError: 4.3764 - val_loss: 19.1527\n",
      "Epoch 43/10000\n",
      "\u001b[1m11/11\u001b[0m \u001b[32m━━━━━━━━━━━━━━━━━━━━\u001b[0m\u001b[37m\u001b[0m \u001b[1m1s\u001b[0m 84ms/step - RootMeanSquaredError: 2.8616 - loss: 8.2516 - val_RootMeanSquaredError: 3.4061 - val_loss: 11.6014\n",
      "Epoch 44/10000\n",
      "\u001b[1m11/11\u001b[0m \u001b[32m━━━━━━━━━━━━━━━━━━━━\u001b[0m\u001b[37m\u001b[0m \u001b[1m1s\u001b[0m 88ms/step - RootMeanSquaredError: 2.6781 - loss: 7.2096 - val_RootMeanSquaredError: 3.2088 - val_loss: 10.2961\n",
      "Epoch 45/10000\n",
      "\u001b[1m11/11\u001b[0m \u001b[32m━━━━━━━━━━━━━━━━━━━━\u001b[0m\u001b[37m\u001b[0m \u001b[1m1s\u001b[0m 77ms/step - RootMeanSquaredError: 2.3029 - loss: 5.3521 - val_RootMeanSquaredError: 3.8152 - val_loss: 14.5561\n",
      "Epoch 46/10000\n",
      "\u001b[1m11/11\u001b[0m \u001b[32m━━━━━━━━━━━━━━━━━━━━\u001b[0m\u001b[37m\u001b[0m \u001b[1m1s\u001b[0m 63ms/step - RootMeanSquaredError: 2.1646 - loss: 4.7058 - val_RootMeanSquaredError: 3.1965 - val_loss: 10.2174\n",
      "Epoch 47/10000\n",
      "\u001b[1m11/11\u001b[0m \u001b[32m━━━━━━━━━━━━━━━━━━━━\u001b[0m\u001b[37m\u001b[0m \u001b[1m1s\u001b[0m 97ms/step - RootMeanSquaredError: 2.3821 - loss: 5.7232 - val_RootMeanSquaredError: 3.5661 - val_loss: 12.7172\n",
      "Epoch 48/10000\n",
      "\u001b[1m11/11\u001b[0m \u001b[32m━━━━━━━━━━━━━━━━━━━━\u001b[0m\u001b[37m\u001b[0m \u001b[1m1s\u001b[0m 79ms/step - RootMeanSquaredError: 1.9513 - loss: 3.8331 - val_RootMeanSquaredError: 3.3216 - val_loss: 11.0332\n",
      "Epoch 49/10000\n",
      "\u001b[1m11/11\u001b[0m \u001b[32m━━━━━━━━━━━━━━━━━━━━\u001b[0m\u001b[37m\u001b[0m \u001b[1m1s\u001b[0m 80ms/step - RootMeanSquaredError: 2.3105 - loss: 5.3869 - val_RootMeanSquaredError: 3.4419 - val_loss: 11.8466\n",
      "Epoch 50/10000\n",
      "\u001b[1m11/11\u001b[0m \u001b[32m━━━━━━━━━━━━━━━━━━━━\u001b[0m\u001b[37m\u001b[0m \u001b[1m1s\u001b[0m 85ms/step - RootMeanSquaredError: 1.8665 - loss: 3.5080 - val_RootMeanSquaredError: 3.3970 - val_loss: 11.5395\n",
      "Epoch 51/10000\n",
      "\u001b[1m11/11\u001b[0m \u001b[32m━━━━━━━━━━━━━━━━━━━━\u001b[0m\u001b[37m\u001b[0m \u001b[1m1s\u001b[0m 80ms/step - RootMeanSquaredError: 2.2311 - loss: 5.0226 - val_RootMeanSquaredError: 3.3807 - val_loss: 11.4290\n",
      "Epoch 52/10000\n",
      "\u001b[1m11/11\u001b[0m \u001b[32m━━━━━━━━━━━━━━━━━━━━\u001b[0m\u001b[37m\u001b[0m \u001b[1m1s\u001b[0m 88ms/step - RootMeanSquaredError: 1.8203 - loss: 3.3342 - val_RootMeanSquaredError: 3.3513 - val_loss: 11.2311\n",
      "Epoch 53/10000\n",
      "\u001b[1m11/11\u001b[0m \u001b[32m━━━━━━━━━━━━━━━━━━━━\u001b[0m\u001b[37m\u001b[0m \u001b[1m1s\u001b[0m 86ms/step - RootMeanSquaredError: 2.1915 - loss: 4.8481 - val_RootMeanSquaredError: 3.3135 - val_loss: 10.9795\n",
      "Epoch 54/10000\n",
      "\u001b[1m11/11\u001b[0m \u001b[32m━━━━━━━━━━━━━━━━━━━━\u001b[0m\u001b[37m\u001b[0m \u001b[1m1s\u001b[0m 78ms/step - RootMeanSquaredError: 1.7899 - loss: 3.2245 - val_RootMeanSquaredError: 3.2768 - val_loss: 10.7377\n",
      "Epoch 55/10000\n",
      "\u001b[1m11/11\u001b[0m \u001b[32m━━━━━━━━━━━━━━━━━━━━\u001b[0m\u001b[37m\u001b[0m \u001b[1m1s\u001b[0m 78ms/step - RootMeanSquaredError: 2.3098 - loss: 5.4086 - val_RootMeanSquaredError: 3.3508 - val_loss: 11.2281\n",
      "Epoch 56/10000\n",
      "\u001b[1m11/11\u001b[0m \u001b[32m━━━━━━━━━━━━━━━━━━━━\u001b[0m\u001b[37m\u001b[0m \u001b[1m1s\u001b[0m 74ms/step - RootMeanSquaredError: 1.8782 - loss: 3.5600 - val_RootMeanSquaredError: 3.2781 - val_loss: 10.7462\n",
      "Epoch 57/10000\n",
      "\u001b[1m11/11\u001b[0m \u001b[32m━━━━━━━━━━━━━━━━━━━━\u001b[0m\u001b[37m\u001b[0m \u001b[1m1s\u001b[0m 108ms/step - RootMeanSquaredError: 2.8587 - loss: 8.3815 - val_RootMeanSquaredError: 3.4762 - val_loss: 12.0838\n",
      "Epoch 58/10000\n",
      "\u001b[1m11/11\u001b[0m \u001b[32m━━━━━━━━━━━━━━━━━━━━\u001b[0m\u001b[37m\u001b[0m \u001b[1m1s\u001b[0m 78ms/step - RootMeanSquaredError: 2.4175 - loss: 5.9368 - val_RootMeanSquaredError: 3.2890 - val_loss: 10.8174\n",
      "Epoch 59/10000\n",
      "\u001b[1m11/11\u001b[0m \u001b[32m━━━━━━━━━━━━━━━━━━━━\u001b[0m\u001b[37m\u001b[0m \u001b[1m1s\u001b[0m 79ms/step - RootMeanSquaredError: 4.0901 - loss: 17.4506 - val_RootMeanSquaredError: 3.9822 - val_loss: 15.8575\n",
      "Epoch 60/10000\n",
      "\u001b[1m11/11\u001b[0m \u001b[32m━━━━━━━━━━━━━━━━━━━━\u001b[0m\u001b[37m\u001b[0m \u001b[1m1s\u001b[0m 77ms/step - RootMeanSquaredError: 3.1995 - loss: 10.3834 - val_RootMeanSquaredError: 3.6776 - val_loss: 13.5251\n",
      "Epoch 61/10000\n",
      "\u001b[1m11/11\u001b[0m \u001b[32m━━━━━━━━━━━━━━━━━━━━\u001b[0m\u001b[37m\u001b[0m \u001b[1m1s\u001b[0m 78ms/step - RootMeanSquaredError: 4.4535 - loss: 20.6843 - val_RootMeanSquaredError: 4.2740 - val_loss: 18.2667\n",
      "Epoch 62/10000\n",
      "\u001b[1m11/11\u001b[0m \u001b[32m━━━━━━━━━━━━━━━━━━━━\u001b[0m\u001b[37m\u001b[0m \u001b[1m1s\u001b[0m 85ms/step - RootMeanSquaredError: 2.7173 - loss: 7.4400 - val_RootMeanSquaredError: 3.9288 - val_loss: 15.4354\n",
      "Epoch 63/10000\n",
      "\u001b[1m11/11\u001b[0m \u001b[32m━━━━━━━━━━━━━━━━━━━━\u001b[0m\u001b[37m\u001b[0m \u001b[1m1s\u001b[0m 90ms/step - RootMeanSquaredError: 2.9915 - loss: 9.0823 - val_RootMeanSquaredError: 3.3290 - val_loss: 11.0821\n",
      "Epoch 64/10000\n",
      "\u001b[1m11/11\u001b[0m \u001b[32m━━━━━━━━━━━━━━━━━━━━\u001b[0m\u001b[37m\u001b[0m \u001b[1m1s\u001b[0m 76ms/step - RootMeanSquaredError: 2.0385 - loss: 4.2023 - val_RootMeanSquaredError: 4.5254 - val_loss: 20.4794\n",
      "Epoch 65/10000\n",
      "\u001b[1m11/11\u001b[0m \u001b[32m━━━━━━━━━━━━━━━━━━━━\u001b[0m\u001b[37m\u001b[0m \u001b[1m1s\u001b[0m 89ms/step - RootMeanSquaredError: 2.2111 - loss: 4.9535 - val_RootMeanSquaredError: 3.0541 - val_loss: 9.3278\n",
      "Epoch 66/10000\n",
      "\u001b[1m11/11\u001b[0m \u001b[32m━━━━━━━━━━━━━━━━━━━━\u001b[0m\u001b[37m\u001b[0m \u001b[1m1s\u001b[0m 89ms/step - RootMeanSquaredError: 2.9101 - loss: 8.7383 - val_RootMeanSquaredError: 3.9873 - val_loss: 15.8989\n",
      "Epoch 67/10000\n",
      "\u001b[1m11/11\u001b[0m \u001b[32m━━━━━━━━━━━━━━━━━━━━\u001b[0m\u001b[37m\u001b[0m \u001b[1m1s\u001b[0m 81ms/step - RootMeanSquaredError: 2.0295 - loss: 4.2008 - val_RootMeanSquaredError: 3.1030 - val_loss: 9.6284\n",
      "Epoch 68/10000\n",
      "\u001b[1m11/11\u001b[0m \u001b[32m━━━━━━━━━━━━━━━━━━━━\u001b[0m\u001b[37m\u001b[0m \u001b[1m1s\u001b[0m 92ms/step - RootMeanSquaredError: 2.8995 - loss: 8.6578 - val_RootMeanSquaredError: 3.8925 - val_loss: 15.1517\n",
      "Epoch 69/10000\n",
      "\u001b[1m11/11\u001b[0m \u001b[32m━━━━━━━━━━━━━━━━━━━━\u001b[0m\u001b[37m\u001b[0m \u001b[1m1s\u001b[0m 76ms/step - RootMeanSquaredError: 1.9073 - loss: 3.6939 - val_RootMeanSquaredError: 3.3150 - val_loss: 10.9894\n",
      "Epoch 70/10000\n",
      "\u001b[1m11/11\u001b[0m \u001b[32m━━━━━━━━━━━━━━━━━━━━\u001b[0m\u001b[37m\u001b[0m \u001b[1m1s\u001b[0m 85ms/step - RootMeanSquaredError: 2.6035 - loss: 6.9378 - val_RootMeanSquaredError: 3.6653 - val_loss: 13.4344\n",
      "Epoch 71/10000\n",
      "\u001b[1m11/11\u001b[0m \u001b[32m━━━━━━━━━━━━━━━━━━━━\u001b[0m\u001b[37m\u001b[0m \u001b[1m1s\u001b[0m 104ms/step - RootMeanSquaredError: 1.7398 - loss: 3.0579 - val_RootMeanSquaredError: 3.5856 - val_loss: 12.8564\n",
      "Epoch 72/10000\n",
      "\u001b[1m11/11\u001b[0m \u001b[32m━━━━━━━━━━━━━━━━━━━━\u001b[0m\u001b[37m\u001b[0m \u001b[1m1s\u001b[0m 67ms/step - RootMeanSquaredError: 2.2718 - loss: 5.2496 - val_RootMeanSquaredError: 3.4250 - val_loss: 11.7306\n",
      "Epoch 73/10000\n",
      "\u001b[1m11/11\u001b[0m \u001b[32m━━━━━━━━━━━━━━━━━━━━\u001b[0m\u001b[37m\u001b[0m \u001b[1m1s\u001b[0m 80ms/step - RootMeanSquaredError: 1.7118 - loss: 2.9522 - val_RootMeanSquaredError: 3.6722 - val_loss: 13.4851\n",
      "Epoch 74/10000\n",
      "\u001b[1m11/11\u001b[0m \u001b[32m━━━━━━━━━━━━━━━━━━━━\u001b[0m\u001b[37m\u001b[0m \u001b[1m1s\u001b[0m 85ms/step - RootMeanSquaredError: 1.9924 - loss: 4.0202 - val_RootMeanSquaredError: 3.3173 - val_loss: 11.0043\n",
      "Epoch 75/10000\n",
      "\u001b[1m11/11\u001b[0m \u001b[32m━━━━━━━━━━━━━━━━━━━━\u001b[0m\u001b[37m\u001b[0m \u001b[1m1s\u001b[0m 84ms/step - RootMeanSquaredError: 1.7635 - loss: 3.1383 - val_RootMeanSquaredError: 3.5543 - val_loss: 12.6329\n",
      "Epoch 76/10000\n",
      "\u001b[1m11/11\u001b[0m \u001b[32m━━━━━━━━━━━━━━━━━━━━\u001b[0m\u001b[37m\u001b[0m \u001b[1m1s\u001b[0m 79ms/step - RootMeanSquaredError: 1.7722 - loss: 3.1725 - val_RootMeanSquaredError: 3.3805 - val_loss: 11.4275\n",
      "Epoch 77/10000\n",
      "\u001b[1m11/11\u001b[0m \u001b[32m━━━━━━━━━━━━━━━━━━━━\u001b[0m\u001b[37m\u001b[0m \u001b[1m1s\u001b[0m 85ms/step - RootMeanSquaredError: 1.8069 - loss: 3.3036 - val_RootMeanSquaredError: 3.3986 - val_loss: 11.5505\n",
      "Epoch 78/10000\n",
      "\u001b[1m11/11\u001b[0m \u001b[32m━━━━━━━━━━━━━━━━━━━━\u001b[0m\u001b[37m\u001b[0m \u001b[1m1s\u001b[0m 82ms/step - RootMeanSquaredError: 1.6916 - loss: 2.8851 - val_RootMeanSquaredError: 3.4225 - val_loss: 11.7136\n",
      "Epoch 79/10000\n",
      "\u001b[1m11/11\u001b[0m \u001b[32m━━━━━━━━━━━━━━━━━━━━\u001b[0m\u001b[37m\u001b[0m \u001b[1m1s\u001b[0m 70ms/step - RootMeanSquaredError: 1.7887 - loss: 3.2376 - val_RootMeanSquaredError: 3.3634 - val_loss: 11.3127\n",
      "Epoch 80/10000\n",
      "\u001b[1m11/11\u001b[0m \u001b[32m━━━━━━━━━━━━━━━━━━━━\u001b[0m\u001b[37m\u001b[0m \u001b[1m1s\u001b[0m 67ms/step - RootMeanSquaredError: 1.6498 - loss: 2.7462 - val_RootMeanSquaredError: 3.3628 - val_loss: 11.3084\n",
      "Epoch 81/10000\n",
      "\u001b[1m11/11\u001b[0m \u001b[32m━━━━━━━━━━━━━━━━━━━━\u001b[0m\u001b[37m\u001b[0m \u001b[1m1s\u001b[0m 77ms/step - RootMeanSquaredError: 1.8315 - loss: 3.3973 - val_RootMeanSquaredError: 3.2404 - val_loss: 10.5002\n",
      "Epoch 82/10000\n",
      "\u001b[1m11/11\u001b[0m \u001b[32m━━━━━━━━━━━━━━━━━━━━\u001b[0m\u001b[37m\u001b[0m \u001b[1m1s\u001b[0m 76ms/step - RootMeanSquaredError: 1.5890 - loss: 2.5440 - val_RootMeanSquaredError: 3.6439 - val_loss: 13.2783\n",
      "Epoch 83/10000\n",
      "\u001b[1m11/11\u001b[0m \u001b[32m━━━━━━━━━━━━━━━━━━━━\u001b[0m\u001b[37m\u001b[0m \u001b[1m1s\u001b[0m 86ms/step - RootMeanSquaredError: 2.0648 - loss: 4.3544 - val_RootMeanSquaredError: 3.0931 - val_loss: 9.5675\n",
      "Epoch 84/10000\n",
      "\u001b[1m11/11\u001b[0m \u001b[32m━━━━━━━━━━━━━━━━━━━━\u001b[0m\u001b[37m\u001b[0m \u001b[1m1s\u001b[0m 79ms/step - RootMeanSquaredError: 1.7348 - loss: 3.0350 - val_RootMeanSquaredError: 4.0277 - val_loss: 16.2226\n",
      "Epoch 85/10000\n",
      "\u001b[1m11/11\u001b[0m \u001b[32m━━━━━━━━━━━━━━━━━━━━\u001b[0m\u001b[37m\u001b[0m \u001b[1m1s\u001b[0m 78ms/step - RootMeanSquaredError: 2.7777 - loss: 7.9525 - val_RootMeanSquaredError: 3.2122 - val_loss: 10.3181\n",
      "Epoch 86/10000\n",
      "\u001b[1m11/11\u001b[0m \u001b[32m━━━━━━━━━━━━━━━━━━━━\u001b[0m\u001b[37m\u001b[0m \u001b[1m1s\u001b[0m 69ms/step - RootMeanSquaredError: 2.2707 - loss: 5.2397 - val_RootMeanSquaredError: 3.7636 - val_loss: 14.1649\n",
      "Epoch 87/10000\n",
      "\u001b[1m11/11\u001b[0m \u001b[32m━━━━━━━━━━━━━━━━━━━━\u001b[0m\u001b[37m\u001b[0m \u001b[1m1s\u001b[0m 81ms/step - RootMeanSquaredError: 4.5075 - loss: 21.1369 - val_RootMeanSquaredError: 4.0637 - val_loss: 16.5133\n",
      "Epoch 88/10000\n",
      "\u001b[1m11/11\u001b[0m \u001b[32m━━━━━━━━━━━━━━━━━━━━\u001b[0m\u001b[37m\u001b[0m \u001b[1m1s\u001b[0m 96ms/step - RootMeanSquaredError: 3.2510 - loss: 10.6910 - val_RootMeanSquaredError: 3.9681 - val_loss: 15.7458\n",
      "Epoch 89/10000\n",
      "\u001b[1m11/11\u001b[0m \u001b[32m━━━━━━━━━━━━━━━━━━━━\u001b[0m\u001b[37m\u001b[0m \u001b[1m1s\u001b[0m 77ms/step - RootMeanSquaredError: 5.4595 - loss: 30.8076 - val_RootMeanSquaredError: 4.6809 - val_loss: 21.9112\n",
      "Epoch 90/10000\n",
      "\u001b[1m11/11\u001b[0m \u001b[32m━━━━━━━━━━━━━━━━━━━━\u001b[0m\u001b[37m\u001b[0m \u001b[1m1s\u001b[0m 87ms/step - RootMeanSquaredError: 3.2052 - loss: 10.3239 - val_RootMeanSquaredError: 3.0502 - val_loss: 9.3038\n",
      "Epoch 91/10000\n",
      "\u001b[1m11/11\u001b[0m \u001b[32m━━━━━━━━━━━━━━━━━━━━\u001b[0m\u001b[37m\u001b[0m \u001b[1m1s\u001b[0m 84ms/step - RootMeanSquaredError: 3.0456 - loss: 9.3399 - val_RootMeanSquaredError: 3.4598 - val_loss: 11.9699\n",
      "Epoch 92/10000\n",
      "\u001b[1m11/11\u001b[0m \u001b[32m━━━━━━━━━━━━━━━━━━━━\u001b[0m\u001b[37m\u001b[0m \u001b[1m1s\u001b[0m 66ms/step - RootMeanSquaredError: 2.1581 - loss: 4.6885 - val_RootMeanSquaredError: 3.8187 - val_loss: 14.5821\n",
      "Epoch 93/10000\n",
      "\u001b[1m11/11\u001b[0m \u001b[32m━━━━━━━━━━━━━━━━━━━━\u001b[0m\u001b[37m\u001b[0m \u001b[1m1s\u001b[0m 81ms/step - RootMeanSquaredError: 2.3595 - loss: 5.6093 - val_RootMeanSquaredError: 3.0142 - val_loss: 9.0852\n",
      "Epoch 94/10000\n",
      "\u001b[1m11/11\u001b[0m \u001b[32m━━━━━━━━━━━━━━━━━━━━\u001b[0m\u001b[37m\u001b[0m \u001b[1m1s\u001b[0m 87ms/step - RootMeanSquaredError: 2.4112 - loss: 5.9344 - val_RootMeanSquaredError: 3.9593 - val_loss: 15.6760\n",
      "Epoch 95/10000\n",
      "\u001b[1m11/11\u001b[0m \u001b[32m━━━━━━━━━━━━━━━━━━━━\u001b[0m\u001b[37m\u001b[0m \u001b[1m1s\u001b[0m 85ms/step - RootMeanSquaredError: 1.9887 - loss: 3.9978 - val_RootMeanSquaredError: 2.9463 - val_loss: 8.6805\n",
      "Epoch 96/10000\n",
      "\u001b[1m11/11\u001b[0m \u001b[32m━━━━━━━━━━━━━━━━━━━━\u001b[0m\u001b[37m\u001b[0m \u001b[1m1s\u001b[0m 76ms/step - RootMeanSquaredError: 2.6443 - loss: 7.1707 - val_RootMeanSquaredError: 3.8204 - val_loss: 14.5955\n",
      "Epoch 97/10000\n",
      "\u001b[1m11/11\u001b[0m \u001b[32m━━━━━━━━━━━━━━━━━━━━\u001b[0m\u001b[37m\u001b[0m \u001b[1m1s\u001b[0m 84ms/step - RootMeanSquaredError: 1.8483 - loss: 3.4594 - val_RootMeanSquaredError: 3.1522 - val_loss: 9.9361\n",
      "Epoch 98/10000\n",
      "\u001b[1m11/11\u001b[0m \u001b[32m━━━━━━━━━━━━━━━━━━━━\u001b[0m\u001b[37m\u001b[0m \u001b[1m1s\u001b[0m 97ms/step - RootMeanSquaredError: 2.4913 - loss: 6.3583 - val_RootMeanSquaredError: 3.5165 - val_loss: 12.3661\n",
      "Epoch 99/10000\n",
      "\u001b[1m11/11\u001b[0m \u001b[32m━━━━━━━━━━━━━━━━━━━━\u001b[0m\u001b[37m\u001b[0m \u001b[1m1s\u001b[0m 85ms/step - RootMeanSquaredError: 1.8114 - loss: 3.3122 - val_RootMeanSquaredError: 3.4798 - val_loss: 12.1089\n",
      "Epoch 100/10000\n",
      "\u001b[1m11/11\u001b[0m \u001b[32m━━━━━━━━━━━━━━━━━━━━\u001b[0m\u001b[37m\u001b[0m \u001b[1m1s\u001b[0m 91ms/step - RootMeanSquaredError: 2.2382 - loss: 5.1022 - val_RootMeanSquaredError: 3.2688 - val_loss: 10.6850\n",
      "Epoch 101/10000\n",
      "\u001b[1m11/11\u001b[0m \u001b[32m━━━━━━━━━━━━━━━━━━━━\u001b[0m\u001b[37m\u001b[0m \u001b[1m1s\u001b[0m 80ms/step - RootMeanSquaredError: 1.9238 - loss: 3.7448 - val_RootMeanSquaredError: 3.6181 - val_loss: 13.0904\n",
      "Epoch 102/10000\n",
      "\u001b[1m11/11\u001b[0m \u001b[32m━━━━━━━━━━━━━━━━━━━━\u001b[0m\u001b[37m\u001b[0m \u001b[1m1s\u001b[0m 80ms/step - RootMeanSquaredError: 1.9545 - loss: 3.8692 - val_RootMeanSquaredError: 3.1908 - val_loss: 10.1811\n",
      "Epoch 103/10000\n",
      "\u001b[1m11/11\u001b[0m \u001b[32m━━━━━━━━━━━━━━━━━━━━\u001b[0m\u001b[37m\u001b[0m \u001b[1m1s\u001b[0m 73ms/step - RootMeanSquaredError: 2.0487 - loss: 4.2754 - val_RootMeanSquaredError: 3.5698 - val_loss: 12.7431\n",
      "Epoch 104/10000\n",
      "\u001b[1m11/11\u001b[0m \u001b[32m━━━━━━━━━━━━━━━━━━━━\u001b[0m\u001b[37m\u001b[0m \u001b[1m1s\u001b[0m 78ms/step - RootMeanSquaredError: 1.8176 - loss: 3.3244 - val_RootMeanSquaredError: 3.3092 - val_loss: 10.9510\n",
      "Epoch 105/10000\n",
      "\u001b[1m11/11\u001b[0m \u001b[32m━━━━━━━━━━━━━━━━━━━━\u001b[0m\u001b[37m\u001b[0m \u001b[1m1s\u001b[0m 88ms/step - RootMeanSquaredError: 2.1971 - loss: 4.9350 - val_RootMeanSquaredError: 3.5878 - val_loss: 12.8721\n",
      "Epoch 106/10000\n",
      "\u001b[1m11/11\u001b[0m \u001b[32m━━━━━━━━━━━━━━━━━━━━\u001b[0m\u001b[37m\u001b[0m \u001b[1m1s\u001b[0m 84ms/step - RootMeanSquaredError: 1.8272 - loss: 3.3511 - val_RootMeanSquaredError: 3.1512 - val_loss: 9.9303\n",
      "Epoch 107/10000\n",
      "\u001b[1m11/11\u001b[0m \u001b[32m━━━━━━━━━━━━━━━━━━━━\u001b[0m\u001b[37m\u001b[0m \u001b[1m1s\u001b[0m 96ms/step - RootMeanSquaredError: 2.2173 - loss: 5.0343 - val_RootMeanSquaredError: 3.8192 - val_loss: 14.5865\n",
      "Epoch 108/10000\n",
      "\u001b[1m11/11\u001b[0m \u001b[32m━━━━━━━━━━━━━━━━━━━━\u001b[0m\u001b[37m\u001b[0m \u001b[1m1s\u001b[0m 94ms/step - RootMeanSquaredError: 1.8625 - loss: 3.4806 - val_RootMeanSquaredError: 3.0355 - val_loss: 9.2142\n",
      "Epoch 109/10000\n",
      "\u001b[1m11/11\u001b[0m \u001b[32m━━━━━━━━━━━━━━━━━━━━\u001b[0m\u001b[37m\u001b[0m \u001b[1m1s\u001b[0m 60ms/step - RootMeanSquaredError: 2.5052 - loss: 6.4858 - val_RootMeanSquaredError: 3.9298 - val_loss: 15.4435\n",
      "Epoch 110/10000\n",
      "\u001b[1m11/11\u001b[0m \u001b[32m━━━━━━━━━━━━━━━━━━━━\u001b[0m\u001b[37m\u001b[0m \u001b[1m4s\u001b[0m 338ms/step - RootMeanSquaredError: 2.1449 - loss: 4.6239 - val_RootMeanSquaredError: 3.5825 - val_loss: 12.8342\n",
      "Epoch 111/10000\n",
      "\u001b[1m11/11\u001b[0m \u001b[32m━━━━━━━━━━━━━━━━━━━━\u001b[0m\u001b[37m\u001b[0m \u001b[1m3s\u001b[0m 138ms/step - RootMeanSquaredError: 4.2329 - loss: 18.6668 - val_RootMeanSquaredError: 3.8758 - val_loss: 15.0216\n",
      "Epoch 112/10000\n",
      "\u001b[1m11/11\u001b[0m \u001b[32m━━━━━━━━━━━━━━━━━━━━\u001b[0m\u001b[37m\u001b[0m \u001b[1m0s\u001b[0m 28ms/step - RootMeanSquaredError: 2.8092 - loss: 7.9141 - val_RootMeanSquaredError: 3.6374 - val_loss: 13.2309\n",
      "Epoch 113/10000\n",
      "\u001b[1m11/11\u001b[0m \u001b[32m━━━━━━━━━━━━━━━━━━━━\u001b[0m\u001b[37m\u001b[0m \u001b[1m0s\u001b[0m 25ms/step - RootMeanSquaredError: 4.1931 - loss: 18.2269 - val_RootMeanSquaredError: 4.4758 - val_loss: 20.0325\n",
      "Epoch 114/10000\n",
      "\u001b[1m11/11\u001b[0m \u001b[32m━━━━━━━━━━━━━━━━━━━━\u001b[0m\u001b[37m\u001b[0m \u001b[1m0s\u001b[0m 25ms/step - RootMeanSquaredError: 3.8770 - loss: 15.0681 - val_RootMeanSquaredError: 4.3771 - val_loss: 19.1592\n",
      "Epoch 115/10000\n",
      "\u001b[1m11/11\u001b[0m \u001b[32m━━━━━━━━━━━━━━━━━━━━\u001b[0m\u001b[37m\u001b[0m \u001b[1m0s\u001b[0m 40ms/step - RootMeanSquaredError: 3.6065 - loss: 13.5033 - val_RootMeanSquaredError: 4.2089 - val_loss: 17.7152\n",
      "Epoch 116/10000\n",
      "\u001b[1m11/11\u001b[0m \u001b[32m━━━━━━━━━━━━━━━━━━━━\u001b[0m\u001b[37m\u001b[0m \u001b[1m1s\u001b[0m 25ms/step - RootMeanSquaredError: 2.8765 - loss: 8.2941 - val_RootMeanSquaredError: 6.5914 - val_loss: 43.4459\n",
      "Epoch 117/10000\n",
      "\u001b[1m11/11\u001b[0m \u001b[32m━━━━━━━━━━━━━━━━━━━━\u001b[0m\u001b[37m\u001b[0m \u001b[1m0s\u001b[0m 25ms/step - RootMeanSquaredError: 3.1456 - loss: 9.9407 - val_RootMeanSquaredError: 3.2359 - val_loss: 10.4711\n",
      "Epoch 118/10000\n",
      "\u001b[1m11/11\u001b[0m \u001b[32m━━━━━━━━━━━━━━━━━━━━\u001b[0m\u001b[37m\u001b[0m \u001b[1m0s\u001b[0m 28ms/step - RootMeanSquaredError: 3.3503 - loss: 11.5664 - val_RootMeanSquaredError: 3.9883 - val_loss: 15.9065\n",
      "Epoch 119/10000\n",
      "\u001b[1m11/11\u001b[0m \u001b[32m━━━━━━━━━━━━━━━━━━━━\u001b[0m\u001b[37m\u001b[0m \u001b[1m1s\u001b[0m 19ms/step - RootMeanSquaredError: 2.7182 - loss: 7.4050 - val_RootMeanSquaredError: 4.4292 - val_loss: 19.6181\n",
      "Epoch 120/10000\n",
      "\u001b[1m11/11\u001b[0m \u001b[32m━━━━━━━━━━━━━━━━━━━━\u001b[0m\u001b[37m\u001b[0m \u001b[1m0s\u001b[0m 21ms/step - RootMeanSquaredError: 2.3627 - loss: 5.5915 - val_RootMeanSquaredError: 4.2599 - val_loss: 18.1464\n",
      "Epoch 121/10000\n",
      "\u001b[1m11/11\u001b[0m \u001b[32m━━━━━━━━━━━━━━━━━━━━\u001b[0m\u001b[37m\u001b[0m \u001b[1m1s\u001b[0m 135ms/step - RootMeanSquaredError: 2.3176 - loss: 5.3987 - val_RootMeanSquaredError: 4.0044 - val_loss: 16.0354\n",
      "Epoch 122/10000\n",
      "\u001b[1m11/11\u001b[0m \u001b[32m━━━━━━━━━━━━━━━━━━━━\u001b[0m\u001b[37m\u001b[0m \u001b[1m0s\u001b[0m 37ms/step - RootMeanSquaredError: 1.9265 - loss: 3.7196 - val_RootMeanSquaredError: 3.3283 - val_loss: 11.0778\n",
      "Epoch 123/10000\n",
      "\u001b[1m11/11\u001b[0m \u001b[32m━━━━━━━━━━━━━━━━━━━━\u001b[0m\u001b[37m\u001b[0m \u001b[1m1s\u001b[0m 89ms/step - RootMeanSquaredError: 1.6710 - loss: 2.8019 - val_RootMeanSquaredError: 3.9361 - val_loss: 15.4926\n",
      "Epoch 124/10000\n",
      "\u001b[1m11/11\u001b[0m \u001b[32m━━━━━━━━━━━━━━━━━━━━\u001b[0m\u001b[37m\u001b[0m \u001b[1m1s\u001b[0m 84ms/step - RootMeanSquaredError: 1.8296 - loss: 3.3550 - val_RootMeanSquaredError: 3.7436 - val_loss: 14.0149\n",
      "Epoch 125/10000\n",
      "\u001b[1m11/11\u001b[0m \u001b[32m━━━━━━━━━━━━━━━━━━━━\u001b[0m\u001b[37m\u001b[0m \u001b[1m1s\u001b[0m 78ms/step - RootMeanSquaredError: 1.8922 - loss: 3.5864 - val_RootMeanSquaredError: 4.3553 - val_loss: 18.9684\n",
      "Epoch 126/10000\n",
      "\u001b[1m11/11\u001b[0m \u001b[32m━━━━━━━━━━━━━━━━━━━━\u001b[0m\u001b[37m\u001b[0m \u001b[1m1s\u001b[0m 83ms/step - RootMeanSquaredError: 2.0723 - loss: 4.3059 - val_RootMeanSquaredError: 4.1726 - val_loss: 17.4104\n",
      "Epoch 127/10000\n",
      "\u001b[1m11/11\u001b[0m \u001b[32m━━━━━━━━━━━━━━━━━━━━\u001b[0m\u001b[37m\u001b[0m \u001b[1m1s\u001b[0m 70ms/step - RootMeanSquaredError: 1.9750 - loss: 3.9117 - val_RootMeanSquaredError: 4.5207 - val_loss: 20.4368\n",
      "Epoch 128/10000\n",
      "\u001b[1m11/11\u001b[0m \u001b[32m━━━━━━━━━━━━━━━━━━━━\u001b[0m\u001b[37m\u001b[0m \u001b[1m1s\u001b[0m 79ms/step - RootMeanSquaredError: 2.1958 - loss: 4.8364 - val_RootMeanSquaredError: 4.3211 - val_loss: 18.6722\n",
      "Epoch 129/10000\n",
      "\u001b[1m11/11\u001b[0m \u001b[32m━━━━━━━━━━━━━━━━━━━━\u001b[0m\u001b[37m\u001b[0m \u001b[1m1s\u001b[0m 74ms/step - RootMeanSquaredError: 2.0811 - loss: 4.3489 - val_RootMeanSquaredError: 4.7897 - val_loss: 22.9412\n",
      "Epoch 130/10000\n",
      "\u001b[1m11/11\u001b[0m \u001b[32m━━━━━━━━━━━━━━━━━━━━\u001b[0m\u001b[37m\u001b[0m \u001b[1m2s\u001b[0m 81ms/step - RootMeanSquaredError: 2.3841 - loss: 5.7012 - val_RootMeanSquaredError: 4.4196 - val_loss: 19.5324\n",
      "Epoch 131/10000\n",
      "\u001b[1m11/11\u001b[0m \u001b[32m━━━━━━━━━━━━━━━━━━━━\u001b[0m\u001b[37m\u001b[0m \u001b[1m1s\u001b[0m 75ms/step - RootMeanSquaredError: 2.0764 - loss: 4.3268 - val_RootMeanSquaredError: 4.9641 - val_loss: 24.6418\n",
      "Epoch 132/10000\n",
      "\u001b[1m11/11\u001b[0m \u001b[32m━━━━━━━━━━━━━━━━━━━━\u001b[0m\u001b[37m\u001b[0m \u001b[1m1s\u001b[0m 72ms/step - RootMeanSquaredError: 2.6802 - loss: 7.2060 - val_RootMeanSquaredError: 4.3940 - val_loss: 19.3075\n",
      "Epoch 133/10000\n",
      "\u001b[1m11/11\u001b[0m \u001b[32m━━━━━━━━━━━━━━━━━━━━\u001b[0m\u001b[37m\u001b[0m \u001b[1m1s\u001b[0m 58ms/step - RootMeanSquaredError: 2.0535 - loss: 4.2266 - val_RootMeanSquaredError: 4.8785 - val_loss: 23.7999\n",
      "Epoch 134/10000\n",
      "\u001b[1m11/11\u001b[0m \u001b[32m━━━━━━━━━━━━━━━━━━━━\u001b[0m\u001b[37m\u001b[0m \u001b[1m1s\u001b[0m 48ms/step - RootMeanSquaredError: 2.8866 - loss: 8.3528 - val_RootMeanSquaredError: 4.5654 - val_loss: 20.8431\n",
      "Epoch 135/10000\n",
      "\u001b[1m11/11\u001b[0m \u001b[32m━━━━━━━━━━━━━━━━━━━━\u001b[0m\u001b[37m\u001b[0m \u001b[1m1s\u001b[0m 74ms/step - RootMeanSquaredError: 2.2428 - loss: 5.0396 - val_RootMeanSquaredError: 4.9318 - val_loss: 24.3224\n",
      "Epoch 136/10000\n",
      "\u001b[1m11/11\u001b[0m \u001b[32m━━━━━━━━━━━━━━━━━━━━\u001b[0m\u001b[37m\u001b[0m \u001b[1m1s\u001b[0m 79ms/step - RootMeanSquaredError: 3.0561 - loss: 9.3673 - val_RootMeanSquaredError: 4.6975 - val_loss: 22.0664\n",
      "Epoch 137/10000\n",
      "\u001b[1m11/11\u001b[0m \u001b[32m━━━━━━━━━━━━━━━━━━━━\u001b[0m\u001b[37m\u001b[0m \u001b[1m1s\u001b[0m 72ms/step - RootMeanSquaredError: 2.6050 - loss: 6.8537 - val_RootMeanSquaredError: 4.0180 - val_loss: 16.1444\n",
      "Epoch 138/10000\n",
      "\u001b[1m11/11\u001b[0m \u001b[32m━━━━━━━━━━━━━━━━━━━━\u001b[0m\u001b[37m\u001b[0m \u001b[1m1s\u001b[0m 80ms/step - RootMeanSquaredError: 3.0416 - loss: 9.3556 - val_RootMeanSquaredError: 4.7260 - val_loss: 22.3352\n",
      "Epoch 139/10000\n",
      "\u001b[1m11/11\u001b[0m \u001b[32m━━━━━━━━━━━━━━━━━━━━\u001b[0m\u001b[37m\u001b[0m \u001b[1m1s\u001b[0m 79ms/step - RootMeanSquaredError: 2.8335 - loss: 8.0555 - val_RootMeanSquaredError: 4.3080 - val_loss: 18.5591\n",
      "Epoch 140/10000\n",
      "\u001b[1m11/11\u001b[0m \u001b[32m━━━━━━━━━━━━━━━━━━━━\u001b[0m\u001b[37m\u001b[0m \u001b[1m2s\u001b[0m 92ms/step - RootMeanSquaredError: 2.8191 - loss: 7.9585 - val_RootMeanSquaredError: 4.1124 - val_loss: 16.9116\n"
     ]
    }
   ],
   "source": [
    "training = model.fit(X_train, y_train, epochs=10000, validation_split=0.2, callbacks=[save, early_stopping, tensorboard_cb])"
   ]
  },
  {
   "cell_type": "code",
   "execution_count": 85,
   "id": "868248bc-c990-4706-b23f-9699ccf3714a",
   "metadata": {},
   "outputs": [
    {
     "name": "stdout",
     "output_type": "stream",
     "text": [
      "\u001b[1m4/4\u001b[0m \u001b[32m━━━━━━━━━━━━━━━━━━━━\u001b[0m\u001b[37m\u001b[0m \u001b[1m0s\u001b[0m 20ms/step - RootMeanSquaredError: 3.6613 - loss: 13.5420\n",
      "\u001b[1m1/1\u001b[0m \u001b[32m━━━━━━━━━━━━━━━━━━━━\u001b[0m\u001b[37m\u001b[0m \u001b[1m1s\u001b[0m 782ms/step\n"
     ]
    }
   ],
   "source": [
    "mse_test, rmse_test = model.evaluate(X_test, y_test)\n",
    "X_new = X_test[:3]\n",
    "y_pred = model.predict(X_new)"
   ]
  },
  {
   "cell_type": "code",
   "execution_count": 86,
   "id": "3fe4da73-a58f-4bc4-a9ae-2f284bb037f8",
   "metadata": {},
   "outputs": [
    {
     "name": "stdout",
     "output_type": "stream",
     "text": [
      "[[ 9.24137]\n",
      " [19.04471]\n",
      " [20.64667]]\n",
      "[ 7.2 18.8 19. ]\n"
     ]
    }
   ],
   "source": [
    "print(y_pred)\n",
    "print(y_test[:3])"
   ]
  },
  {
   "cell_type": "code",
   "execution_count": null,
   "id": "23f2aecf-c3d2-4b01-b706-db47f6f0cff1",
   "metadata": {},
   "outputs": [],
   "source": []
  }
 ],
 "metadata": {
  "kernelspec": {
   "display_name": "Python 3 (ipykernel)",
   "language": "python",
   "name": "python3"
  },
  "language_info": {
   "codemirror_mode": {
    "name": "ipython",
    "version": 3
   },
   "file_extension": ".py",
   "mimetype": "text/x-python",
   "name": "python",
   "nbconvert_exporter": "python",
   "pygments_lexer": "ipython3",
   "version": "3.11.7"
  }
 },
 "nbformat": 4,
 "nbformat_minor": 5
}
